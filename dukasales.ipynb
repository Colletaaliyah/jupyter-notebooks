{
 "cells": [
  {
   "cell_type": "markdown",
   "id": "1ca86e97",
   "metadata": {},
   "source": [
    "### 1.Importing modules that interact with the database."
   ]
  },
  {
   "cell_type": "code",
   "execution_count": 1,
   "id": "8c156a55",
   "metadata": {},
   "outputs": [],
   "source": [
    "import psycopg2\n",
    "import pandas as pd\n",
    "import matplotlib.pyplot as plt\n",
    "from IPython.display import FileLink"
   ]
  },
  {
   "cell_type": "code",
   "execution_count": 2,
   "id": "76571ffd",
   "metadata": {},
   "outputs": [],
   "source": [
    "import warnings\n",
    "warnings.filterwarnings(\"ignore\")"
   ]
  },
  {
   "cell_type": "code",
   "execution_count": 3,
   "id": "4c7a425b",
   "metadata": {},
   "outputs": [],
   "source": [
    "conn = psycopg2.connect(\"dbname=myduka user=postgres password=Candidcoco@20\")"
   ]
  },
  {
   "cell_type": "code",
   "execution_count": 4,
   "id": "71c8734f",
   "metadata": {},
   "outputs": [],
   "source": [
    "df = pd.read_sql_query(\"SELECT sales.id as sales_id, product_name, buying_price, selling_price, sales.quantity as sales_quantity, created_at as sales_created_at FROM products,sales WHERE products.id = sales.pid\", conn)"
   ]
  },
  {
   "cell_type": "markdown",
   "id": "0c1e4a7a",
   "metadata": {},
   "source": [
    "### 2.Set column index"
   ]
  },
  {
   "cell_type": "code",
   "execution_count": 5,
   "id": "11d7456b",
   "metadata": {},
   "outputs": [],
   "source": [
    "df.set_index('sales_id', inplace=True,verify_integrity=False)"
   ]
  },
  {
   "cell_type": "markdown",
   "id": "d35544dc",
   "metadata": {},
   "source": [
    "### 3.Checking data types."
   ]
  },
  {
   "cell_type": "code",
   "execution_count": 6,
   "id": "6185a7ab",
   "metadata": {},
   "outputs": [
    {
     "data": {
      "text/plain": [
       "product_name                object\n",
       "buying_price                 int64\n",
       "selling_price                int64\n",
       "sales_quantity               int64\n",
       "sales_created_at    datetime64[ns]\n",
       "dtype: object"
      ]
     },
     "execution_count": 6,
     "metadata": {},
     "output_type": "execute_result"
    }
   ],
   "source": [
    "df.dtypes"
   ]
  },
  {
   "cell_type": "markdown",
   "id": "219684f0",
   "metadata": {},
   "source": [
    "### 4. Creating new columns."
   ]
  },
  {
   "cell_type": "code",
   "execution_count": 7,
   "id": "0da7b84d",
   "metadata": {},
   "outputs": [],
   "source": [
    "df['profit'] = df['selling_price'] - df['buying_price']"
   ]
  },
  {
   "cell_type": "code",
   "execution_count": 8,
   "id": "8162907b",
   "metadata": {},
   "outputs": [
    {
     "data": {
      "text/html": [
       "<div>\n",
       "<style scoped>\n",
       "    .dataframe tbody tr th:only-of-type {\n",
       "        vertical-align: middle;\n",
       "    }\n",
       "\n",
       "    .dataframe tbody tr th {\n",
       "        vertical-align: top;\n",
       "    }\n",
       "\n",
       "    .dataframe thead th {\n",
       "        text-align: right;\n",
       "    }\n",
       "</style>\n",
       "<table border=\"1\" class=\"dataframe\">\n",
       "  <thead>\n",
       "    <tr style=\"text-align: right;\">\n",
       "      <th></th>\n",
       "      <th>product_name</th>\n",
       "      <th>buying_price</th>\n",
       "      <th>selling_price</th>\n",
       "      <th>sales_quantity</th>\n",
       "      <th>sales_created_at</th>\n",
       "      <th>profit</th>\n",
       "    </tr>\n",
       "    <tr>\n",
       "      <th>sales_id</th>\n",
       "      <th></th>\n",
       "      <th></th>\n",
       "      <th></th>\n",
       "      <th></th>\n",
       "      <th></th>\n",
       "      <th></th>\n",
       "    </tr>\n",
       "  </thead>\n",
       "  <tbody>\n",
       "    <tr>\n",
       "      <th>1</th>\n",
       "      <td>Vinegar - Tarragon</td>\n",
       "      <td>65</td>\n",
       "      <td>21</td>\n",
       "      <td>23</td>\n",
       "      <td>2022-11-13</td>\n",
       "      <td>-44</td>\n",
       "    </tr>\n",
       "    <tr>\n",
       "      <th>2</th>\n",
       "      <td>Cloves - Whole</td>\n",
       "      <td>33</td>\n",
       "      <td>75</td>\n",
       "      <td>12</td>\n",
       "      <td>2022-08-31</td>\n",
       "      <td>42</td>\n",
       "    </tr>\n",
       "    <tr>\n",
       "      <th>3</th>\n",
       "      <td>Pail - 15l White, With Handle</td>\n",
       "      <td>47</td>\n",
       "      <td>10</td>\n",
       "      <td>92</td>\n",
       "      <td>2022-12-29</td>\n",
       "      <td>-37</td>\n",
       "    </tr>\n",
       "    <tr>\n",
       "      <th>4</th>\n",
       "      <td>Chocolate - Pistoles, Lactee, Milk</td>\n",
       "      <td>75</td>\n",
       "      <td>37</td>\n",
       "      <td>17</td>\n",
       "      <td>2023-04-08</td>\n",
       "      <td>-38</td>\n",
       "    </tr>\n",
       "    <tr>\n",
       "      <th>5</th>\n",
       "      <td>Cassis</td>\n",
       "      <td>16</td>\n",
       "      <td>82</td>\n",
       "      <td>100</td>\n",
       "      <td>2023-05-25</td>\n",
       "      <td>66</td>\n",
       "    </tr>\n",
       "    <tr>\n",
       "      <th>6</th>\n",
       "      <td>Sage Derby</td>\n",
       "      <td>11</td>\n",
       "      <td>18</td>\n",
       "      <td>85</td>\n",
       "      <td>2023-04-16</td>\n",
       "      <td>7</td>\n",
       "    </tr>\n",
       "    <tr>\n",
       "      <th>7</th>\n",
       "      <td>Nantucket - Pomegranate Pear</td>\n",
       "      <td>53</td>\n",
       "      <td>25</td>\n",
       "      <td>58</td>\n",
       "      <td>2022-08-25</td>\n",
       "      <td>-28</td>\n",
       "    </tr>\n",
       "    <tr>\n",
       "      <th>8</th>\n",
       "      <td>Carbonated Water - Raspberry</td>\n",
       "      <td>84</td>\n",
       "      <td>11</td>\n",
       "      <td>87</td>\n",
       "      <td>2023-03-05</td>\n",
       "      <td>-73</td>\n",
       "    </tr>\n",
       "    <tr>\n",
       "      <th>9</th>\n",
       "      <td>Milkettes - 2%</td>\n",
       "      <td>25</td>\n",
       "      <td>32</td>\n",
       "      <td>35</td>\n",
       "      <td>2023-01-12</td>\n",
       "      <td>7</td>\n",
       "    </tr>\n",
       "    <tr>\n",
       "      <th>10</th>\n",
       "      <td>Apple - Fuji</td>\n",
       "      <td>32</td>\n",
       "      <td>69</td>\n",
       "      <td>66</td>\n",
       "      <td>2023-04-26</td>\n",
       "      <td>37</td>\n",
       "    </tr>\n",
       "  </tbody>\n",
       "</table>\n",
       "</div>"
      ],
      "text/plain": [
       "                                product_name  buying_price  selling_price  \\\n",
       "sales_id                                                                    \n",
       "1                         Vinegar - Tarragon            65             21   \n",
       "2                             Cloves - Whole            33             75   \n",
       "3              Pail - 15l White, With Handle            47             10   \n",
       "4         Chocolate - Pistoles, Lactee, Milk            75             37   \n",
       "5                                     Cassis            16             82   \n",
       "6                                 Sage Derby            11             18   \n",
       "7               Nantucket - Pomegranate Pear            53             25   \n",
       "8               Carbonated Water - Raspberry            84             11   \n",
       "9                             Milkettes - 2%            25             32   \n",
       "10                              Apple - Fuji            32             69   \n",
       "\n",
       "          sales_quantity sales_created_at  profit  \n",
       "sales_id                                           \n",
       "1                     23       2022-11-13     -44  \n",
       "2                     12       2022-08-31      42  \n",
       "3                     92       2022-12-29     -37  \n",
       "4                     17       2023-04-08     -38  \n",
       "5                    100       2023-05-25      66  \n",
       "6                     85       2023-04-16       7  \n",
       "7                     58       2022-08-25     -28  \n",
       "8                     87       2023-03-05     -73  \n",
       "9                     35       2023-01-12       7  \n",
       "10                    66       2023-04-26      37  "
      ]
     },
     "execution_count": 8,
     "metadata": {},
     "output_type": "execute_result"
    }
   ],
   "source": [
    "df.head(10)"
   ]
  },
  {
   "cell_type": "code",
   "execution_count": 9,
   "id": "fbcd40d7",
   "metadata": {},
   "outputs": [],
   "source": [
    "df['new_selling_price'] = df['buying_price'] * 0.25"
   ]
  },
  {
   "cell_type": "code",
   "execution_count": 10,
   "id": "93c629bf",
   "metadata": {},
   "outputs": [],
   "source": [
    "# Update the existing new_selling_price column to be 10 times the current values\n",
    "df['new_selling_price'] = df['new_selling_price'] * 10"
   ]
  },
  {
   "cell_type": "code",
   "execution_count": 11,
   "id": "2aef3408",
   "metadata": {},
   "outputs": [],
   "source": [
    "df['new_profit'] = df['new_selling_price'] - df['buying_price'] "
   ]
  },
  {
   "cell_type": "code",
   "execution_count": 12,
   "id": "f2eb3095",
   "metadata": {},
   "outputs": [
    {
     "data": {
      "text/html": [
       "<div>\n",
       "<style scoped>\n",
       "    .dataframe tbody tr th:only-of-type {\n",
       "        vertical-align: middle;\n",
       "    }\n",
       "\n",
       "    .dataframe tbody tr th {\n",
       "        vertical-align: top;\n",
       "    }\n",
       "\n",
       "    .dataframe thead th {\n",
       "        text-align: right;\n",
       "    }\n",
       "</style>\n",
       "<table border=\"1\" class=\"dataframe\">\n",
       "  <thead>\n",
       "    <tr style=\"text-align: right;\">\n",
       "      <th></th>\n",
       "      <th>product_name</th>\n",
       "      <th>buying_price</th>\n",
       "      <th>selling_price</th>\n",
       "      <th>sales_quantity</th>\n",
       "      <th>sales_created_at</th>\n",
       "      <th>profit</th>\n",
       "      <th>new_selling_price</th>\n",
       "      <th>new_profit</th>\n",
       "    </tr>\n",
       "    <tr>\n",
       "      <th>sales_id</th>\n",
       "      <th></th>\n",
       "      <th></th>\n",
       "      <th></th>\n",
       "      <th></th>\n",
       "      <th></th>\n",
       "      <th></th>\n",
       "      <th></th>\n",
       "      <th></th>\n",
       "    </tr>\n",
       "  </thead>\n",
       "  <tbody>\n",
       "    <tr>\n",
       "      <th>1</th>\n",
       "      <td>Vinegar - Tarragon</td>\n",
       "      <td>65</td>\n",
       "      <td>21</td>\n",
       "      <td>23</td>\n",
       "      <td>2022-11-13</td>\n",
       "      <td>-44</td>\n",
       "      <td>162.5</td>\n",
       "      <td>97.5</td>\n",
       "    </tr>\n",
       "    <tr>\n",
       "      <th>2</th>\n",
       "      <td>Cloves - Whole</td>\n",
       "      <td>33</td>\n",
       "      <td>75</td>\n",
       "      <td>12</td>\n",
       "      <td>2022-08-31</td>\n",
       "      <td>42</td>\n",
       "      <td>82.5</td>\n",
       "      <td>49.5</td>\n",
       "    </tr>\n",
       "    <tr>\n",
       "      <th>3</th>\n",
       "      <td>Pail - 15l White, With Handle</td>\n",
       "      <td>47</td>\n",
       "      <td>10</td>\n",
       "      <td>92</td>\n",
       "      <td>2022-12-29</td>\n",
       "      <td>-37</td>\n",
       "      <td>117.5</td>\n",
       "      <td>70.5</td>\n",
       "    </tr>\n",
       "    <tr>\n",
       "      <th>4</th>\n",
       "      <td>Chocolate - Pistoles, Lactee, Milk</td>\n",
       "      <td>75</td>\n",
       "      <td>37</td>\n",
       "      <td>17</td>\n",
       "      <td>2023-04-08</td>\n",
       "      <td>-38</td>\n",
       "      <td>187.5</td>\n",
       "      <td>112.5</td>\n",
       "    </tr>\n",
       "    <tr>\n",
       "      <th>5</th>\n",
       "      <td>Cassis</td>\n",
       "      <td>16</td>\n",
       "      <td>82</td>\n",
       "      <td>100</td>\n",
       "      <td>2023-05-25</td>\n",
       "      <td>66</td>\n",
       "      <td>40.0</td>\n",
       "      <td>24.0</td>\n",
       "    </tr>\n",
       "    <tr>\n",
       "      <th>6</th>\n",
       "      <td>Sage Derby</td>\n",
       "      <td>11</td>\n",
       "      <td>18</td>\n",
       "      <td>85</td>\n",
       "      <td>2023-04-16</td>\n",
       "      <td>7</td>\n",
       "      <td>27.5</td>\n",
       "      <td>16.5</td>\n",
       "    </tr>\n",
       "    <tr>\n",
       "      <th>7</th>\n",
       "      <td>Nantucket - Pomegranate Pear</td>\n",
       "      <td>53</td>\n",
       "      <td>25</td>\n",
       "      <td>58</td>\n",
       "      <td>2022-08-25</td>\n",
       "      <td>-28</td>\n",
       "      <td>132.5</td>\n",
       "      <td>79.5</td>\n",
       "    </tr>\n",
       "    <tr>\n",
       "      <th>8</th>\n",
       "      <td>Carbonated Water - Raspberry</td>\n",
       "      <td>84</td>\n",
       "      <td>11</td>\n",
       "      <td>87</td>\n",
       "      <td>2023-03-05</td>\n",
       "      <td>-73</td>\n",
       "      <td>210.0</td>\n",
       "      <td>126.0</td>\n",
       "    </tr>\n",
       "    <tr>\n",
       "      <th>9</th>\n",
       "      <td>Milkettes - 2%</td>\n",
       "      <td>25</td>\n",
       "      <td>32</td>\n",
       "      <td>35</td>\n",
       "      <td>2023-01-12</td>\n",
       "      <td>7</td>\n",
       "      <td>62.5</td>\n",
       "      <td>37.5</td>\n",
       "    </tr>\n",
       "    <tr>\n",
       "      <th>10</th>\n",
       "      <td>Apple - Fuji</td>\n",
       "      <td>32</td>\n",
       "      <td>69</td>\n",
       "      <td>66</td>\n",
       "      <td>2023-04-26</td>\n",
       "      <td>37</td>\n",
       "      <td>80.0</td>\n",
       "      <td>48.0</td>\n",
       "    </tr>\n",
       "  </tbody>\n",
       "</table>\n",
       "</div>"
      ],
      "text/plain": [
       "                                product_name  buying_price  selling_price  \\\n",
       "sales_id                                                                    \n",
       "1                         Vinegar - Tarragon            65             21   \n",
       "2                             Cloves - Whole            33             75   \n",
       "3              Pail - 15l White, With Handle            47             10   \n",
       "4         Chocolate - Pistoles, Lactee, Milk            75             37   \n",
       "5                                     Cassis            16             82   \n",
       "6                                 Sage Derby            11             18   \n",
       "7               Nantucket - Pomegranate Pear            53             25   \n",
       "8               Carbonated Water - Raspberry            84             11   \n",
       "9                             Milkettes - 2%            25             32   \n",
       "10                              Apple - Fuji            32             69   \n",
       "\n",
       "          sales_quantity sales_created_at  profit  new_selling_price  \\\n",
       "sales_id                                                               \n",
       "1                     23       2022-11-13     -44              162.5   \n",
       "2                     12       2022-08-31      42               82.5   \n",
       "3                     92       2022-12-29     -37              117.5   \n",
       "4                     17       2023-04-08     -38              187.5   \n",
       "5                    100       2023-05-25      66               40.0   \n",
       "6                     85       2023-04-16       7               27.5   \n",
       "7                     58       2022-08-25     -28              132.5   \n",
       "8                     87       2023-03-05     -73              210.0   \n",
       "9                     35       2023-01-12       7               62.5   \n",
       "10                    66       2023-04-26      37               80.0   \n",
       "\n",
       "          new_profit  \n",
       "sales_id              \n",
       "1               97.5  \n",
       "2               49.5  \n",
       "3               70.5  \n",
       "4              112.5  \n",
       "5               24.0  \n",
       "6               16.5  \n",
       "7               79.5  \n",
       "8              126.0  \n",
       "9               37.5  \n",
       "10              48.0  "
      ]
     },
     "execution_count": 12,
     "metadata": {},
     "output_type": "execute_result"
    }
   ],
   "source": [
    "df.head(10)"
   ]
  },
  {
   "cell_type": "code",
   "execution_count": 13,
   "id": "fdae9a20",
   "metadata": {},
   "outputs": [],
   "source": [
    "sales = df['new_profit'] + df['buying_price']"
   ]
  },
  {
   "cell_type": "code",
   "execution_count": 14,
   "id": "540bf226",
   "metadata": {},
   "outputs": [
    {
     "data": {
      "text/plain": [
       "5587.5"
      ]
     },
     "execution_count": 14,
     "metadata": {},
     "output_type": "execute_result"
    }
   ],
   "source": [
    "sales.sum()"
   ]
  },
  {
   "cell_type": "markdown",
   "id": "344c9fbb",
   "metadata": {},
   "source": [
    "### 5. Filter for items with positive profitability and then get top 5 by sales"
   ]
  },
  {
   "cell_type": "code",
   "execution_count": 15,
   "id": "ed76b537",
   "metadata": {},
   "outputs": [],
   "source": [
    "# Sort the DataFrame by Profit in descending order and then by Buying_Price in ascending order\n",
    "df = df.sort_values(by=['profit', 'buying_price'], ascending=[False, True])\n",
    "\n",
    "# Display the top five sales\n",
    "top_products = df.head(5)"
   ]
  },
  {
   "cell_type": "code",
   "execution_count": 16,
   "id": "97f5a6ae",
   "metadata": {},
   "outputs": [
    {
     "data": {
      "text/html": [
       "<div>\n",
       "<style scoped>\n",
       "    .dataframe tbody tr th:only-of-type {\n",
       "        vertical-align: middle;\n",
       "    }\n",
       "\n",
       "    .dataframe tbody tr th {\n",
       "        vertical-align: top;\n",
       "    }\n",
       "\n",
       "    .dataframe thead th {\n",
       "        text-align: right;\n",
       "    }\n",
       "</style>\n",
       "<table border=\"1\" class=\"dataframe\">\n",
       "  <thead>\n",
       "    <tr style=\"text-align: right;\">\n",
       "      <th></th>\n",
       "      <th>product_name</th>\n",
       "      <th>buying_price</th>\n",
       "      <th>selling_price</th>\n",
       "      <th>sales_quantity</th>\n",
       "      <th>sales_created_at</th>\n",
       "      <th>profit</th>\n",
       "      <th>new_selling_price</th>\n",
       "      <th>new_profit</th>\n",
       "    </tr>\n",
       "    <tr>\n",
       "      <th>sales_id</th>\n",
       "      <th></th>\n",
       "      <th></th>\n",
       "      <th></th>\n",
       "      <th></th>\n",
       "      <th></th>\n",
       "      <th></th>\n",
       "      <th></th>\n",
       "      <th></th>\n",
       "    </tr>\n",
       "  </thead>\n",
       "  <tbody>\n",
       "    <tr>\n",
       "      <th>38</th>\n",
       "      <td>Mushroom - Portebello</td>\n",
       "      <td>5</td>\n",
       "      <td>76</td>\n",
       "      <td>75</td>\n",
       "      <td>2023-01-17</td>\n",
       "      <td>71</td>\n",
       "      <td>12.5</td>\n",
       "      <td>7.5</td>\n",
       "    </tr>\n",
       "    <tr>\n",
       "      <th>27</th>\n",
       "      <td>Bread - Rolls, Rye</td>\n",
       "      <td>6</td>\n",
       "      <td>72</td>\n",
       "      <td>87</td>\n",
       "      <td>2023-07-21</td>\n",
       "      <td>66</td>\n",
       "      <td>15.0</td>\n",
       "      <td>9.0</td>\n",
       "    </tr>\n",
       "    <tr>\n",
       "      <th>5</th>\n",
       "      <td>Cassis</td>\n",
       "      <td>16</td>\n",
       "      <td>82</td>\n",
       "      <td>100</td>\n",
       "      <td>2023-05-25</td>\n",
       "      <td>66</td>\n",
       "      <td>40.0</td>\n",
       "      <td>24.0</td>\n",
       "    </tr>\n",
       "    <tr>\n",
       "      <th>48</th>\n",
       "      <td>Wine La Vielle Ferme Cote Du</td>\n",
       "      <td>36</td>\n",
       "      <td>94</td>\n",
       "      <td>90</td>\n",
       "      <td>2023-03-31</td>\n",
       "      <td>58</td>\n",
       "      <td>90.0</td>\n",
       "      <td>54.0</td>\n",
       "    </tr>\n",
       "    <tr>\n",
       "      <th>21</th>\n",
       "      <td>Creme De Menthe Green</td>\n",
       "      <td>42</td>\n",
       "      <td>100</td>\n",
       "      <td>76</td>\n",
       "      <td>2022-12-30</td>\n",
       "      <td>58</td>\n",
       "      <td>105.0</td>\n",
       "      <td>63.0</td>\n",
       "    </tr>\n",
       "  </tbody>\n",
       "</table>\n",
       "</div>"
      ],
      "text/plain": [
       "                          product_name  buying_price  selling_price  \\\n",
       "sales_id                                                              \n",
       "38               Mushroom - Portebello             5             76   \n",
       "27                  Bread - Rolls, Rye             6             72   \n",
       "5                               Cassis            16             82   \n",
       "48        Wine La Vielle Ferme Cote Du            36             94   \n",
       "21               Creme De Menthe Green            42            100   \n",
       "\n",
       "          sales_quantity sales_created_at  profit  new_selling_price  \\\n",
       "sales_id                                                               \n",
       "38                    75       2023-01-17      71               12.5   \n",
       "27                    87       2023-07-21      66               15.0   \n",
       "5                    100       2023-05-25      66               40.0   \n",
       "48                    90       2023-03-31      58               90.0   \n",
       "21                    76       2022-12-30      58              105.0   \n",
       "\n",
       "          new_profit  \n",
       "sales_id              \n",
       "38               7.5  \n",
       "27               9.0  \n",
       "5               24.0  \n",
       "48              54.0  \n",
       "21              63.0  "
      ]
     },
     "execution_count": 16,
     "metadata": {},
     "output_type": "execute_result"
    }
   ],
   "source": [
    "top_products"
   ]
  },
  {
   "cell_type": "markdown",
   "id": "3173c751",
   "metadata": {},
   "source": [
    "### 6. Find the month with the highest total sales"
   ]
  },
  {
   "cell_type": "code",
   "execution_count": 17,
   "id": "5e6b6ee8",
   "metadata": {},
   "outputs": [],
   "source": [
    "# Convert the 'created_at' column to a datetime format\n",
    "df['sales_created_at'] = pd.to_datetime(df['sales_created_at'])\n",
    "\n",
    "# Calculate the sales for each row on the fly (new_selling_price - Buying_Price)\n",
    "df['Sales'] = df['new_selling_price'] - df['buying_price']\n",
    "\n",
    "# Extract the month from the 'created_at' column and add it to the original DataFrame\n",
    "df['Month'] = df['sales_created_at'].dt.to_period('M')\n",
    "\n",
    "# Find the month with the highest total sales\n",
    "best_month = df.groupby('Month')['Sales'].sum().idxmax()"
   ]
  },
  {
   "cell_type": "code",
   "execution_count": 18,
   "id": "b3b4a22e",
   "metadata": {},
   "outputs": [
    {
     "data": {
      "text/plain": [
       "Period('2023-07', 'M')"
      ]
     },
     "execution_count": 18,
     "metadata": {},
     "output_type": "execute_result"
    }
   ],
   "source": [
    "best_month"
   ]
  },
  {
   "cell_type": "markdown",
   "id": "4cfac1e8",
   "metadata": {},
   "source": [
    "### 7. Create the plot using Pandas' plotting function"
   ]
  },
  {
   "cell_type": "code",
   "execution_count": 19,
   "id": "79e134e1",
   "metadata": {},
   "outputs": [
    {
     "data": {
      "text/plain": [
       "Text(0.5, 1.0, 'Total Sales per Product')"
      ]
     },
     "execution_count": 19,
     "metadata": {},
     "output_type": "execute_result"
    },
    {
     "data": {
      "image/png": "[encoded data removed]",
      "text/plain": [
       "<Figure size 1500x900 with 1 Axes>"
      ]
     },
     "metadata": {},
     "output_type": "display_data"
    }
   ],
   "source": [
    "df.plot.bar('product_name','Sales',legend=False,rot=90,figsize=(15,9))\n",
    "plt.xlabel('Product Names')\n",
    "plt.ylabel('Total Sales Quantity')\n",
    "plt.title('Total Sales per Product')"
   ]
  },
  {
   "cell_type": "code",
   "execution_count": 20,
   "id": "fd687f3f",
   "metadata": {},
   "outputs": [
    {
     "data": {
      "text/plain": [
       "product_name\n",
       "Apple - Fuji                           48.0\n",
       "Apples - Sliced / Wedge               142.5\n",
       "Bag - Clear 7 Lb                       15.0\n",
       "Bagel - 12 Grain Preslice              21.0\n",
       "Beef - Flank Steak                     66.0\n",
       "Beef - Prime Rib Aaa                  103.5\n",
       "Beef - Rib Eye Aaa                     73.5\n",
       "Bread - Pita, Mini                     64.5\n",
       "Bread - Rolls, Rye                      9.0\n",
       "Bread Ww Cluster                       66.0\n",
       "Butter - Salted, Micro                 39.0\n",
       "Calypso - Lemonade                     52.5\n",
       "Carbonated Water - Raspberry          126.0\n",
       "Cassis                                 24.0\n",
       "Chicken Thigh - Bone Out               21.0\n",
       "Chips - Potato Jalapeno               132.0\n",
       "Chocolate - Pistoles, Lactee, Milk    112.5\n",
       "Cloves - Whole                         49.5\n",
       "Contreau                               42.0\n",
       "Cookies Cereal Nut                     88.5\n",
       "Crab - Dungeness, Whole               135.0\n",
       "Crab - Soft Shell                       9.0\n",
       "Creme De Menthe Green                  63.0\n",
       "Dasheen                                21.0\n",
       "Dc Hikiage Hira Huba                   73.5\n",
       "Fiddlehead - Frozen                   109.5\n",
       "Leeks - Large                          51.0\n",
       "Milkettes - 2%                         37.5\n",
       "Mushroom - Portebello                   7.5\n",
       "Nantucket - Carrot Orange              48.0\n",
       "Nantucket - Pomegranate Pear           79.5\n",
       "Nori Sea Weed - Gold Label            135.0\n",
       "Pail - 15l White, With Handle          70.5\n",
       "Pastry - Apple Large                   42.0\n",
       "Pastry - Apple Muffins - Mini          21.0\n",
       "Pastry - Key Limepoppy Seed Tea        54.0\n",
       "Sage Derby                             16.5\n",
       "Soup - Campbells                       36.0\n",
       "Soup - Campbells, Spinach Crm          76.5\n",
       "Temperature Recording Station          70.5\n",
       "Veal - Heart                          117.0\n",
       "Vinegar - Champagne                   106.5\n",
       "Vinegar - Tarragon                     97.5\n",
       "Water - Spring Water 500ml             81.0\n",
       "Wiberg Super Cure                      30.0\n",
       "Wine - Ruffino Chianti                 82.5\n",
       "Wine - Ruffino Chianti Classico       150.0\n",
       "Wine - White, Schroder And Schyl       51.0\n",
       "Wine La Vielle Ferme Cote Du           54.0\n",
       "Yogurt - Banana, 175 Gr               130.5\n",
       "Name: new_profit, dtype: float64"
      ]
     },
     "execution_count": 20,
     "metadata": {},
     "output_type": "execute_result"
    }
   ],
   "source": [
    "# Calculate the average profit for each product name --- correlation between product name and profit\n",
    "df.groupby('product_name')['new_profit'].mean()"
   ]
  },
  {
   "cell_type": "code",
   "execution_count": 21,
   "id": "4498299e",
   "metadata": {},
   "outputs": [
    {
     "data": {
      "text/plain": [
       "Text(0.5, 1.0, 'Total Sales per Month')"
      ]
     },
     "execution_count": 21,
     "metadata": {},
     "output_type": "execute_result"
    },
    {
     "data": {
      "image/png": "[encoded data removed]",
      "text/plain": [
       "<Figure size 1500x900 with 1 Axes>"
      ]
     },
     "metadata": {},
     "output_type": "display_data"
    }
   ],
   "source": [
    "# Group by the month extracted from the 'Date' column and sum the 'Sales' within each group\n",
    "grouped_df = df.groupby(df['sales_created_at'].dt.to_period('M'))['Sales'].sum()\n",
    "\n",
    "# Create a bar plot\n",
    "grouped_df.plot(kind='bar', rot=90, figsize=(15,9)) \n",
    "plt.xlabel('Monthly Dates')\n",
    "plt.ylabel('Total Sales')\n",
    "plt.title('Total Sales per Month')"
   ]
  },
  {
   "cell_type": "markdown",
   "id": "257f2dbb",
   "metadata": {},
   "source": [
    "### 8.Cleaning up columns to follow programming naming."
   ]
  },
  {
   "cell_type": "code",
   "execution_count": 22,
   "id": "2b197eea",
   "metadata": {},
   "outputs": [
    {
     "data": {
      "text/plain": [
       "['product_name',\n",
       " 'buying_price',\n",
       " 'selling_price',\n",
       " 'sales_quantity',\n",
       " 'sales_created_at',\n",
       " 'profit',\n",
       " 'new_selling_price',\n",
       " 'new_profit',\n",
       " 'Sales',\n",
       " 'Month']"
      ]
     },
     "execution_count": 22,
     "metadata": {},
     "output_type": "execute_result"
    }
   ],
   "source": [
    "df.columns.to_list()"
   ]
  },
  {
   "cell_type": "code",
   "execution_count": 23,
   "id": "17503b6e",
   "metadata": {},
   "outputs": [],
   "source": [
    "df.columns = df.columns.str.lower()"
   ]
  },
  {
   "cell_type": "code",
   "execution_count": 24,
   "id": "97f35d19",
   "metadata": {},
   "outputs": [
    {
     "data": {
      "text/plain": [
       "Index(['product_name', 'buying_price', 'selling_price', 'sales_quantity',\n",
       "       'sales_created_at', 'profit', 'new_selling_price', 'new_profit',\n",
       "       'sales', 'month'],\n",
       "      dtype='object')"
      ]
     },
     "execution_count": 24,
     "metadata": {},
     "output_type": "execute_result"
    }
   ],
   "source": [
    "df.columns"
   ]
  },
  {
   "cell_type": "markdown",
   "id": "bf30ccce",
   "metadata": {},
   "source": [
    "### 9.Removing duplicates"
   ]
  },
  {
   "cell_type": "code",
   "execution_count": 25,
   "id": "980569cf",
   "metadata": {},
   "outputs": [
    {
     "data": {
      "text/plain": [
       "(50, 10)"
      ]
     },
     "execution_count": 25,
     "metadata": {},
     "output_type": "execute_result"
    }
   ],
   "source": [
    "df.shape"
   ]
  },
  {
   "cell_type": "code",
   "execution_count": 26,
   "id": "8f3aeed9",
   "metadata": {},
   "outputs": [
    {
     "data": {
      "text/plain": [
       "(100, 10)"
      ]
     },
     "execution_count": 26,
     "metadata": {},
     "output_type": "execute_result"
    }
   ],
   "source": [
    "new_df = df.append(df)\n",
    "new_df.shape"
   ]
  },
  {
   "cell_type": "code",
   "execution_count": 27,
   "id": "04f06583",
   "metadata": {},
   "outputs": [
    {
     "data": {
      "text/plain": [
       "(50, 10)"
      ]
     },
     "execution_count": 27,
     "metadata": {},
     "output_type": "execute_result"
    }
   ],
   "source": [
    "new_df = df.drop_duplicates()\n",
    "new_df.shape"
   ]
  },
  {
   "cell_type": "markdown",
   "id": "e63ce247",
   "metadata": {},
   "source": [
    "### 10.Cleaning up unused columns."
   ]
  },
  {
   "cell_type": "code",
   "execution_count": 28,
   "id": "0ee02560",
   "metadata": {},
   "outputs": [],
   "source": [
    "columns_to_drop = ['selling_price', 'profit']\n",
    "df.drop(columns=columns_to_drop, inplace=True)"
   ]
  },
  {
   "cell_type": "markdown",
   "id": "34102ef0",
   "metadata": {},
   "source": [
    "### 11.Dealing with null values."
   ]
  },
  {
   "cell_type": "code",
   "execution_count": 29,
   "id": "9fdd3123",
   "metadata": {},
   "outputs": [
    {
     "data": {
      "text/plain": [
       "product_name         0\n",
       "buying_price         0\n",
       "sales_quantity       0\n",
       "sales_created_at     0\n",
       "new_selling_price    0\n",
       "new_profit           0\n",
       "sales                0\n",
       "month                0\n",
       "dtype: int64"
      ]
     },
     "execution_count": 29,
     "metadata": {},
     "output_type": "execute_result"
    }
   ],
   "source": [
    "df.isnull().sum()"
   ]
  },
  {
   "cell_type": "markdown",
   "id": "efa08f4d",
   "metadata": {},
   "source": [
    "### 12.Summary statistics."
   ]
  },
  {
   "cell_type": "code",
   "execution_count": 30,
   "id": "1cf233af",
   "metadata": {},
   "outputs": [
    {
     "data": {
      "text/html": [
       "<div>\n",
       "<style scoped>\n",
       "    .dataframe tbody tr th:only-of-type {\n",
       "        vertical-align: middle;\n",
       "    }\n",
       "\n",
       "    .dataframe tbody tr th {\n",
       "        vertical-align: top;\n",
       "    }\n",
       "\n",
       "    .dataframe thead th {\n",
       "        text-align: right;\n",
       "    }\n",
       "</style>\n",
       "<table border=\"1\" class=\"dataframe\">\n",
       "  <thead>\n",
       "    <tr style=\"text-align: right;\">\n",
       "      <th></th>\n",
       "      <th>buying_price</th>\n",
       "      <th>sales_quantity</th>\n",
       "      <th>new_selling_price</th>\n",
       "      <th>new_profit</th>\n",
       "      <th>sales</th>\n",
       "    </tr>\n",
       "  </thead>\n",
       "  <tbody>\n",
       "    <tr>\n",
       "      <th>buying_price</th>\n",
       "      <td>1.00000</td>\n",
       "      <td>0.07264</td>\n",
       "      <td>1.00000</td>\n",
       "      <td>1.00000</td>\n",
       "      <td>1.00000</td>\n",
       "    </tr>\n",
       "    <tr>\n",
       "      <th>sales_quantity</th>\n",
       "      <td>0.07264</td>\n",
       "      <td>1.00000</td>\n",
       "      <td>0.07264</td>\n",
       "      <td>0.07264</td>\n",
       "      <td>0.07264</td>\n",
       "    </tr>\n",
       "    <tr>\n",
       "      <th>new_selling_price</th>\n",
       "      <td>1.00000</td>\n",
       "      <td>0.07264</td>\n",
       "      <td>1.00000</td>\n",
       "      <td>1.00000</td>\n",
       "      <td>1.00000</td>\n",
       "    </tr>\n",
       "    <tr>\n",
       "      <th>new_profit</th>\n",
       "      <td>1.00000</td>\n",
       "      <td>0.07264</td>\n",
       "      <td>1.00000</td>\n",
       "      <td>1.00000</td>\n",
       "      <td>1.00000</td>\n",
       "    </tr>\n",
       "    <tr>\n",
       "      <th>sales</th>\n",
       "      <td>1.00000</td>\n",
       "      <td>0.07264</td>\n",
       "      <td>1.00000</td>\n",
       "      <td>1.00000</td>\n",
       "      <td>1.00000</td>\n",
       "    </tr>\n",
       "  </tbody>\n",
       "</table>\n",
       "</div>"
      ],
      "text/plain": [
       "                   buying_price  sales_quantity  new_selling_price  \\\n",
       "buying_price            1.00000         0.07264            1.00000   \n",
       "sales_quantity          0.07264         1.00000            0.07264   \n",
       "new_selling_price       1.00000         0.07264            1.00000   \n",
       "new_profit              1.00000         0.07264            1.00000   \n",
       "sales                   1.00000         0.07264            1.00000   \n",
       "\n",
       "                   new_profit    sales  \n",
       "buying_price          1.00000  1.00000  \n",
       "sales_quantity        0.07264  0.07264  \n",
       "new_selling_price     1.00000  1.00000  \n",
       "new_profit            1.00000  1.00000  \n",
       "sales                 1.00000  1.00000  "
      ]
     },
     "execution_count": 30,
     "metadata": {},
     "output_type": "execute_result"
    }
   ],
   "source": [
    "df.corr()"
   ]
  },
  {
   "cell_type": "code",
   "execution_count": 31,
   "id": "daf5ad95",
   "metadata": {},
   "outputs": [
    {
     "data": {
      "text/plain": [
       "1.0"
      ]
     },
     "execution_count": 31,
     "metadata": {},
     "output_type": "execute_result"
    }
   ],
   "source": [
    "df['buying_price'].corr(df['new_profit']) #pearson correlation"
   ]
  },
  {
   "cell_type": "code",
   "execution_count": 32,
   "id": "bb1e1d53",
   "metadata": {},
   "outputs": [],
   "source": [
    "# Calculate Spearman's rank correlation coefficient\n",
    "spearman_corr = df['buying_price'].corr(df['new_profit'], method='spearman')"
   ]
  },
  {
   "cell_type": "code",
   "execution_count": 33,
   "id": "5d28318c",
   "metadata": {},
   "outputs": [
    {
     "data": {
      "text/plain": [
       "1.0"
      ]
     },
     "execution_count": 33,
     "metadata": {},
     "output_type": "execute_result"
    }
   ],
   "source": [
    "spearman_corr"
   ]
  },
  {
   "cell_type": "code",
   "execution_count": 34,
   "id": "3677b12e",
   "metadata": {},
   "outputs": [],
   "source": [
    "file_path = 'C:/Users/USER/OneDrive/Documents/datascience/csv files/duka_sales_cleaned.csv'\n",
    "\n",
    "# Save the DataFrame to a CSV file\n",
    "df.to_csv(file_path, index=False)"
   ]
  },
  {
   "cell_type": "code",
   "execution_count": 35,
   "id": "3581c65b",
   "metadata": {},
   "outputs": [
    {
     "data": {
      "text/html": [
       "<div>\n",
       "<style scoped>\n",
       "    .dataframe tbody tr th:only-of-type {\n",
       "        vertical-align: middle;\n",
       "    }\n",
       "\n",
       "    .dataframe tbody tr th {\n",
       "        vertical-align: top;\n",
       "    }\n",
       "\n",
       "    .dataframe thead th {\n",
       "        text-align: right;\n",
       "    }\n",
       "</style>\n",
       "<table border=\"1\" class=\"dataframe\">\n",
       "  <thead>\n",
       "    <tr style=\"text-align: right;\">\n",
       "      <th></th>\n",
       "      <th>product_name</th>\n",
       "      <th>buying_price</th>\n",
       "      <th>sales_quantity</th>\n",
       "      <th>sales_created_at</th>\n",
       "      <th>new_selling_price</th>\n",
       "      <th>new_profit</th>\n",
       "      <th>sales</th>\n",
       "      <th>month</th>\n",
       "    </tr>\n",
       "  </thead>\n",
       "  <tbody>\n",
       "    <tr>\n",
       "      <th>0</th>\n",
       "      <td>Mushroom - Portebello</td>\n",
       "      <td>5</td>\n",
       "      <td>75</td>\n",
       "      <td>2023-01-17</td>\n",
       "      <td>12.5</td>\n",
       "      <td>7.5</td>\n",
       "      <td>7.5</td>\n",
       "      <td>2023-01</td>\n",
       "    </tr>\n",
       "    <tr>\n",
       "      <th>1</th>\n",
       "      <td>Bread - Rolls, Rye</td>\n",
       "      <td>6</td>\n",
       "      <td>87</td>\n",
       "      <td>2023-07-21</td>\n",
       "      <td>15.0</td>\n",
       "      <td>9.0</td>\n",
       "      <td>9.0</td>\n",
       "      <td>2023-07</td>\n",
       "    </tr>\n",
       "    <tr>\n",
       "      <th>2</th>\n",
       "      <td>Cassis</td>\n",
       "      <td>16</td>\n",
       "      <td>100</td>\n",
       "      <td>2023-05-25</td>\n",
       "      <td>40.0</td>\n",
       "      <td>24.0</td>\n",
       "      <td>24.0</td>\n",
       "      <td>2023-05</td>\n",
       "    </tr>\n",
       "    <tr>\n",
       "      <th>3</th>\n",
       "      <td>Wine La Vielle Ferme Cote Du</td>\n",
       "      <td>36</td>\n",
       "      <td>90</td>\n",
       "      <td>2023-03-31</td>\n",
       "      <td>90.0</td>\n",
       "      <td>54.0</td>\n",
       "      <td>54.0</td>\n",
       "      <td>2023-03</td>\n",
       "    </tr>\n",
       "    <tr>\n",
       "      <th>4</th>\n",
       "      <td>Creme De Menthe Green</td>\n",
       "      <td>42</td>\n",
       "      <td>76</td>\n",
       "      <td>2022-12-30</td>\n",
       "      <td>105.0</td>\n",
       "      <td>63.0</td>\n",
       "      <td>63.0</td>\n",
       "      <td>2022-12</td>\n",
       "    </tr>\n",
       "  </tbody>\n",
       "</table>\n",
       "</div>"
      ],
      "text/plain": [
       "                   product_name  buying_price  sales_quantity  \\\n",
       "0         Mushroom - Portebello             5              75   \n",
       "1            Bread - Rolls, Rye             6              87   \n",
       "2                        Cassis            16             100   \n",
       "3  Wine La Vielle Ferme Cote Du            36              90   \n",
       "4         Creme De Menthe Green            42              76   \n",
       "\n",
       "  sales_created_at  new_selling_price  new_profit  sales    month  \n",
       "0       2023-01-17               12.5         7.5    7.5  2023-01  \n",
       "1       2023-07-21               15.0         9.0    9.0  2023-07  \n",
       "2       2023-05-25               40.0        24.0   24.0  2023-05  \n",
       "3       2023-03-31               90.0        54.0   54.0  2023-03  \n",
       "4       2022-12-30              105.0        63.0   63.0  2022-12  "
      ]
     },
     "execution_count": 35,
     "metadata": {},
     "output_type": "execute_result"
    }
   ],
   "source": [
    "# Read the CSV file into a DataFrame\n",
    "df = pd.read_csv('C:/Users/USER/OneDrive/Documents/datascience/csv files/duka_sales_cleaned.csv')\n",
    "\n",
    "# Display the first few rows of the DataFrame\n",
    "df.head(5)"
   ]
  },
  {
   "cell_type": "code",
   "execution_count": null,
   "id": "32140081",
   "metadata": {},
   "outputs": [],
   "source": []
  }
 ],
 "metadata": {
  "kernelspec": {
   "display_name": "Python 3 (ipykernel)",
   "language": "python",
   "name": "python3"
  },
  "language_info": {
   "codemirror_mode": {
    "name": "ipython",
    "version": 3
   },
   "file_extension": ".py",
   "mimetype": "text/x-python",
   "name": "python",
   "nbconvert_exporter": "python",
   "pygments_lexer": "ipython3",
   "version": "3.11.3"
  }
 },
 "nbformat": 4,
 "nbformat_minor": 5
}
