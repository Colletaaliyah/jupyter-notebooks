{
 "cells": [
  {
   "cell_type": "markdown",
   "id": "1ca86e97",
   "metadata": {},
   "source": [
    "### 1.Importing modules that interact with the database."
   ]
  },
  {
   "cell_type": "code",
   "execution_count": 1,
   "id": "8c156a55",
   "metadata": {},
   "outputs": [],
   "source": [
    "import psycopg2\n",
    "import pandas as pd\n",
    "#import numpy as np\n",
    "import matplotlib.pyplot as plt\n",
    "from IPython.display import FileLink"
   ]
  },
  {
   "cell_type": "code",
   "execution_count": 2,
   "id": "76571ffd",
   "metadata": {},
   "outputs": [],
   "source": [
    "import warnings\n",
    "warnings.filterwarnings(\"ignore\")"
   ]
  },
  {
   "cell_type": "code",
   "execution_count": 3,
   "id": "4c7a425b",
   "metadata": {},
   "outputs": [],
   "source": [
    "conn = psycopg2.connect(\"dbname=myduka user=postgres password=Candidcoco@20\")"
   ]
  },
  {
   "cell_type": "code",
   "execution_count": 4,
   "id": "71c8734f",
   "metadata": {},
   "outputs": [],
   "source": [
    "df = pd.read_sql_query(\"SELECT sales.id as sales_id, product_name, buying_price, selling_price, sales.quantity as sales_quantity, created_at as sales_created_at FROM products,sales WHERE products.id = sales.pid\", conn)"
   ]
  },
  {
   "cell_type": "markdown",
   "id": "0c1e4a7a",
   "metadata": {},
   "source": [
    "### 2.Set column index"
   ]
  },
  {
   "cell_type": "code",
   "execution_count": 5,
   "id": "11d7456b",
   "metadata": {},
   "outputs": [],
   "source": [
    "df.set_index('sales_id', inplace=True,verify_integrity=False)"
   ]
  },
  {
   "cell_type": "markdown",
   "id": "d35544dc",
   "metadata": {},
   "source": [
    "### 3.Checking data types."
   ]
  },
  {
   "cell_type": "code",
   "execution_count": 6,
   "id": "6185a7ab",
   "metadata": {},
   "outputs": [
    {
     "data": {
      "text/plain": [
       "product_name                object\n",
       "buying_price                 int64\n",
       "selling_price                int64\n",
       "sales_quantity               int64\n",
       "sales_created_at    datetime64[ns]\n",
       "dtype: object"
      ]
     },
     "execution_count": 6,
     "metadata": {},
     "output_type": "execute_result"
    }
   ],
   "source": [
    "df.dtypes"
   ]
  },
  {
   "cell_type": "markdown",
   "id": "257f2dbb",
   "metadata": {},
   "source": [
    "### 4.Cleaning up columns to follow programming naming."
   ]
  },
  {
   "cell_type": "code",
   "execution_count": 7,
   "id": "2b197eea",
   "metadata": {},
   "outputs": [
    {
     "data": {
      "text/plain": [
       "['product_name',\n",
       " 'buying_price',\n",
       " 'selling_price',\n",
       " 'sales_quantity',\n",
       " 'sales_created_at']"
      ]
     },
     "execution_count": 7,
     "metadata": {},
     "output_type": "execute_result"
    }
   ],
   "source": [
    "df.columns.to_list()"
   ]
  },
  {
   "cell_type": "markdown",
   "id": "bf30ccce",
   "metadata": {},
   "source": [
    "### 5.Removing duplicates"
   ]
  },
  {
   "cell_type": "code",
   "execution_count": 8,
   "id": "980569cf",
   "metadata": {},
   "outputs": [
    {
     "data": {
      "text/plain": [
       "(50, 5)"
      ]
     },
     "execution_count": 8,
     "metadata": {},
     "output_type": "execute_result"
    }
   ],
   "source": [
    "df.shape"
   ]
  },
  {
   "cell_type": "code",
   "execution_count": 9,
   "id": "8f3aeed9",
   "metadata": {},
   "outputs": [
    {
     "data": {
      "text/plain": [
       "(100, 5)"
      ]
     },
     "execution_count": 9,
     "metadata": {},
     "output_type": "execute_result"
    }
   ],
   "source": [
    "new_df = df.append(df)\n",
    "new_df.shape"
   ]
  },
  {
   "cell_type": "code",
   "execution_count": 10,
   "id": "04f06583",
   "metadata": {},
   "outputs": [
    {
     "data": {
      "text/plain": [
       "(50, 5)"
      ]
     },
     "execution_count": 10,
     "metadata": {},
     "output_type": "execute_result"
    }
   ],
   "source": [
    "new_df = df.drop_duplicates()\n",
    "new_df.shape"
   ]
  },
  {
   "cell_type": "markdown",
   "id": "e63ce247",
   "metadata": {},
   "source": [
    "### 6.Cleaning up columns."
   ]
  },
  {
   "cell_type": "code",
   "execution_count": 11,
   "id": "17503b6e",
   "metadata": {},
   "outputs": [
    {
     "data": {
      "text/plain": [
       "Index(['product_name', 'buying_price', 'selling_price', 'sales_quantity',\n",
       "       'sales_created_at'],\n",
       "      dtype='object')"
      ]
     },
     "execution_count": 11,
     "metadata": {},
     "output_type": "execute_result"
    }
   ],
   "source": [
    "df.columns.map(str.lower,na_action='ignore')"
   ]
  },
  {
   "cell_type": "markdown",
   "id": "34102ef0",
   "metadata": {},
   "source": [
    "### 7.Dealing with null values."
   ]
  },
  {
   "cell_type": "code",
   "execution_count": null,
   "id": "9fdd3123",
   "metadata": {},
   "outputs": [],
   "source": []
  },
  {
   "cell_type": "code",
   "execution_count": null,
   "id": "1eb5329a",
   "metadata": {},
   "outputs": [],
   "source": []
  },
  {
   "cell_type": "markdown",
   "id": "efa08f4d",
   "metadata": {},
   "source": [
    "### 8.Summary statistics."
   ]
  },
  {
   "cell_type": "code",
   "execution_count": 12,
   "id": "1cf233af",
   "metadata": {},
   "outputs": [
    {
     "data": {
      "text/html": [
       "<div>\n",
       "<style scoped>\n",
       "    .dataframe tbody tr th:only-of-type {\n",
       "        vertical-align: middle;\n",
       "    }\n",
       "\n",
       "    .dataframe tbody tr th {\n",
       "        vertical-align: top;\n",
       "    }\n",
       "\n",
       "    .dataframe thead th {\n",
       "        text-align: right;\n",
       "    }\n",
       "</style>\n",
       "<table border=\"1\" class=\"dataframe\">\n",
       "  <thead>\n",
       "    <tr style=\"text-align: right;\">\n",
       "      <th></th>\n",
       "      <th>buying_price</th>\n",
       "      <th>selling_price</th>\n",
       "      <th>sales_quantity</th>\n",
       "    </tr>\n",
       "  </thead>\n",
       "  <tbody>\n",
       "    <tr>\n",
       "      <th>buying_price</th>\n",
       "      <td>1.000000</td>\n",
       "      <td>-0.063809</td>\n",
       "      <td>0.072640</td>\n",
       "    </tr>\n",
       "    <tr>\n",
       "      <th>selling_price</th>\n",
       "      <td>-0.063809</td>\n",
       "      <td>1.000000</td>\n",
       "      <td>0.124686</td>\n",
       "    </tr>\n",
       "    <tr>\n",
       "      <th>sales_quantity</th>\n",
       "      <td>0.072640</td>\n",
       "      <td>0.124686</td>\n",
       "      <td>1.000000</td>\n",
       "    </tr>\n",
       "  </tbody>\n",
       "</table>\n",
       "</div>"
      ],
      "text/plain": [
       "                buying_price  selling_price  sales_quantity\n",
       "buying_price        1.000000      -0.063809        0.072640\n",
       "selling_price      -0.063809       1.000000        0.124686\n",
       "sales_quantity      0.072640       0.124686        1.000000"
      ]
     },
     "execution_count": 12,
     "metadata": {},
     "output_type": "execute_result"
    }
   ],
   "source": [
    "df.corr()"
   ]
  },
  {
   "cell_type": "markdown",
   "id": "219684f0",
   "metadata": {},
   "source": [
    "### 9. Creating new columns."
   ]
  },
  {
   "cell_type": "code",
   "execution_count": 13,
   "id": "0da7b84d",
   "metadata": {},
   "outputs": [],
   "source": [
    "df['profit'] = df['selling_price'] - df['buying_price'] * df['sales_quantity']"
   ]
  },
  {
   "cell_type": "code",
   "execution_count": 14,
   "id": "8162907b",
   "metadata": {},
   "outputs": [
    {
     "data": {
      "text/html": [
       "<div>\n",
       "<style scoped>\n",
       "    .dataframe tbody tr th:only-of-type {\n",
       "        vertical-align: middle;\n",
       "    }\n",
       "\n",
       "    .dataframe tbody tr th {\n",
       "        vertical-align: top;\n",
       "    }\n",
       "\n",
       "    .dataframe thead th {\n",
       "        text-align: right;\n",
       "    }\n",
       "</style>\n",
       "<table border=\"1\" class=\"dataframe\">\n",
       "  <thead>\n",
       "    <tr style=\"text-align: right;\">\n",
       "      <th></th>\n",
       "      <th>product_name</th>\n",
       "      <th>buying_price</th>\n",
       "      <th>selling_price</th>\n",
       "      <th>sales_quantity</th>\n",
       "      <th>sales_created_at</th>\n",
       "      <th>profit</th>\n",
       "    </tr>\n",
       "    <tr>\n",
       "      <th>sales_id</th>\n",
       "      <th></th>\n",
       "      <th></th>\n",
       "      <th></th>\n",
       "      <th></th>\n",
       "      <th></th>\n",
       "      <th></th>\n",
       "    </tr>\n",
       "  </thead>\n",
       "  <tbody>\n",
       "    <tr>\n",
       "      <th>1</th>\n",
       "      <td>Vinegar - Tarragon</td>\n",
       "      <td>65</td>\n",
       "      <td>21</td>\n",
       "      <td>23</td>\n",
       "      <td>2022-11-13</td>\n",
       "      <td>-1474</td>\n",
       "    </tr>\n",
       "    <tr>\n",
       "      <th>2</th>\n",
       "      <td>Cloves - Whole</td>\n",
       "      <td>33</td>\n",
       "      <td>75</td>\n",
       "      <td>12</td>\n",
       "      <td>2022-08-31</td>\n",
       "      <td>-321</td>\n",
       "    </tr>\n",
       "    <tr>\n",
       "      <th>3</th>\n",
       "      <td>Pail - 15l White, With Handle</td>\n",
       "      <td>47</td>\n",
       "      <td>10</td>\n",
       "      <td>92</td>\n",
       "      <td>2022-12-29</td>\n",
       "      <td>-4314</td>\n",
       "    </tr>\n",
       "    <tr>\n",
       "      <th>4</th>\n",
       "      <td>Chocolate - Pistoles, Lactee, Milk</td>\n",
       "      <td>75</td>\n",
       "      <td>37</td>\n",
       "      <td>17</td>\n",
       "      <td>2023-04-08</td>\n",
       "      <td>-1238</td>\n",
       "    </tr>\n",
       "    <tr>\n",
       "      <th>5</th>\n",
       "      <td>Cassis</td>\n",
       "      <td>16</td>\n",
       "      <td>82</td>\n",
       "      <td>100</td>\n",
       "      <td>2023-05-25</td>\n",
       "      <td>-1518</td>\n",
       "    </tr>\n",
       "    <tr>\n",
       "      <th>6</th>\n",
       "      <td>Sage Derby</td>\n",
       "      <td>11</td>\n",
       "      <td>18</td>\n",
       "      <td>85</td>\n",
       "      <td>2023-04-16</td>\n",
       "      <td>-917</td>\n",
       "    </tr>\n",
       "    <tr>\n",
       "      <th>7</th>\n",
       "      <td>Nantucket - Pomegranate Pear</td>\n",
       "      <td>53</td>\n",
       "      <td>25</td>\n",
       "      <td>58</td>\n",
       "      <td>2022-08-25</td>\n",
       "      <td>-3049</td>\n",
       "    </tr>\n",
       "    <tr>\n",
       "      <th>8</th>\n",
       "      <td>Carbonated Water - Raspberry</td>\n",
       "      <td>84</td>\n",
       "      <td>11</td>\n",
       "      <td>87</td>\n",
       "      <td>2023-03-05</td>\n",
       "      <td>-7297</td>\n",
       "    </tr>\n",
       "    <tr>\n",
       "      <th>9</th>\n",
       "      <td>Milkettes - 2%</td>\n",
       "      <td>25</td>\n",
       "      <td>32</td>\n",
       "      <td>35</td>\n",
       "      <td>2023-01-12</td>\n",
       "      <td>-843</td>\n",
       "    </tr>\n",
       "    <tr>\n",
       "      <th>10</th>\n",
       "      <td>Apple - Fuji</td>\n",
       "      <td>32</td>\n",
       "      <td>69</td>\n",
       "      <td>66</td>\n",
       "      <td>2023-04-26</td>\n",
       "      <td>-2043</td>\n",
       "    </tr>\n",
       "    <tr>\n",
       "      <th>11</th>\n",
       "      <td>Soup - Campbells, Spinach Crm</td>\n",
       "      <td>51</td>\n",
       "      <td>45</td>\n",
       "      <td>54</td>\n",
       "      <td>2023-04-24</td>\n",
       "      <td>-2709</td>\n",
       "    </tr>\n",
       "    <tr>\n",
       "      <th>12</th>\n",
       "      <td>Water - Spring Water 500ml</td>\n",
       "      <td>54</td>\n",
       "      <td>23</td>\n",
       "      <td>84</td>\n",
       "      <td>2023-05-08</td>\n",
       "      <td>-4513</td>\n",
       "    </tr>\n",
       "    <tr>\n",
       "      <th>13</th>\n",
       "      <td>Crab - Dungeness, Whole</td>\n",
       "      <td>90</td>\n",
       "      <td>31</td>\n",
       "      <td>51</td>\n",
       "      <td>2022-08-30</td>\n",
       "      <td>-4559</td>\n",
       "    </tr>\n",
       "    <tr>\n",
       "      <th>14</th>\n",
       "      <td>Dasheen</td>\n",
       "      <td>14</td>\n",
       "      <td>32</td>\n",
       "      <td>3</td>\n",
       "      <td>2023-02-17</td>\n",
       "      <td>-10</td>\n",
       "    </tr>\n",
       "    <tr>\n",
       "      <th>15</th>\n",
       "      <td>Vinegar - Champagne</td>\n",
       "      <td>71</td>\n",
       "      <td>64</td>\n",
       "      <td>41</td>\n",
       "      <td>2023-01-31</td>\n",
       "      <td>-2847</td>\n",
       "    </tr>\n",
       "  </tbody>\n",
       "</table>\n",
       "</div>"
      ],
      "text/plain": [
       "                                product_name  buying_price  selling_price  \\\n",
       "sales_id                                                                    \n",
       "1                         Vinegar - Tarragon            65             21   \n",
       "2                             Cloves - Whole            33             75   \n",
       "3              Pail - 15l White, With Handle            47             10   \n",
       "4         Chocolate - Pistoles, Lactee, Milk            75             37   \n",
       "5                                     Cassis            16             82   \n",
       "6                                 Sage Derby            11             18   \n",
       "7               Nantucket - Pomegranate Pear            53             25   \n",
       "8               Carbonated Water - Raspberry            84             11   \n",
       "9                             Milkettes - 2%            25             32   \n",
       "10                              Apple - Fuji            32             69   \n",
       "11             Soup - Campbells, Spinach Crm            51             45   \n",
       "12                Water - Spring Water 500ml            54             23   \n",
       "13                   Crab - Dungeness, Whole            90             31   \n",
       "14                                   Dasheen            14             32   \n",
       "15                       Vinegar - Champagne            71             64   \n",
       "\n",
       "          sales_quantity sales_created_at  profit  \n",
       "sales_id                                           \n",
       "1                     23       2022-11-13   -1474  \n",
       "2                     12       2022-08-31    -321  \n",
       "3                     92       2022-12-29   -4314  \n",
       "4                     17       2023-04-08   -1238  \n",
       "5                    100       2023-05-25   -1518  \n",
       "6                     85       2023-04-16    -917  \n",
       "7                     58       2022-08-25   -3049  \n",
       "8                     87       2023-03-05   -7297  \n",
       "9                     35       2023-01-12    -843  \n",
       "10                    66       2023-04-26   -2043  \n",
       "11                    54       2023-04-24   -2709  \n",
       "12                    84       2023-05-08   -4513  \n",
       "13                    51       2022-08-30   -4559  \n",
       "14                     3       2023-02-17     -10  \n",
       "15                    41       2023-01-31   -2847  "
      ]
     },
     "execution_count": 14,
     "metadata": {},
     "output_type": "execute_result"
    }
   ],
   "source": [
    "df.head(15)"
   ]
  },
  {
   "cell_type": "code",
   "execution_count": 15,
   "id": "626d8e92",
   "metadata": {},
   "outputs": [],
   "source": [
    "df['Selling_Price'] = df['buying_price'] * 0.25"
   ]
  },
  {
   "cell_type": "code",
   "execution_count": 16,
   "id": "c68fb9fd",
   "metadata": {},
   "outputs": [],
   "source": [
    "df['Profit'] = df['Selling_Price'] - df['buying_price'] * df['sales_quantity']"
   ]
  },
  {
   "cell_type": "code",
   "execution_count": 17,
   "id": "58ce0bf9",
   "metadata": {},
   "outputs": [
    {
     "data": {
      "text/html": [
       "<div>\n",
       "<style scoped>\n",
       "    .dataframe tbody tr th:only-of-type {\n",
       "        vertical-align: middle;\n",
       "    }\n",
       "\n",
       "    .dataframe tbody tr th {\n",
       "        vertical-align: top;\n",
       "    }\n",
       "\n",
       "    .dataframe thead th {\n",
       "        text-align: right;\n",
       "    }\n",
       "</style>\n",
       "<table border=\"1\" class=\"dataframe\">\n",
       "  <thead>\n",
       "    <tr style=\"text-align: right;\">\n",
       "      <th></th>\n",
       "      <th>product_name</th>\n",
       "      <th>buying_price</th>\n",
       "      <th>selling_price</th>\n",
       "      <th>sales_quantity</th>\n",
       "      <th>sales_created_at</th>\n",
       "      <th>profit</th>\n",
       "      <th>Selling_Price</th>\n",
       "      <th>Profit</th>\n",
       "    </tr>\n",
       "    <tr>\n",
       "      <th>sales_id</th>\n",
       "      <th></th>\n",
       "      <th></th>\n",
       "      <th></th>\n",
       "      <th></th>\n",
       "      <th></th>\n",
       "      <th></th>\n",
       "      <th></th>\n",
       "      <th></th>\n",
       "    </tr>\n",
       "  </thead>\n",
       "  <tbody>\n",
       "    <tr>\n",
       "      <th>1</th>\n",
       "      <td>Vinegar - Tarragon</td>\n",
       "      <td>65</td>\n",
       "      <td>21</td>\n",
       "      <td>23</td>\n",
       "      <td>2022-11-13</td>\n",
       "      <td>-1474</td>\n",
       "      <td>16.25</td>\n",
       "      <td>-1478.75</td>\n",
       "    </tr>\n",
       "    <tr>\n",
       "      <th>2</th>\n",
       "      <td>Cloves - Whole</td>\n",
       "      <td>33</td>\n",
       "      <td>75</td>\n",
       "      <td>12</td>\n",
       "      <td>2022-08-31</td>\n",
       "      <td>-321</td>\n",
       "      <td>8.25</td>\n",
       "      <td>-387.75</td>\n",
       "    </tr>\n",
       "    <tr>\n",
       "      <th>3</th>\n",
       "      <td>Pail - 15l White, With Handle</td>\n",
       "      <td>47</td>\n",
       "      <td>10</td>\n",
       "      <td>92</td>\n",
       "      <td>2022-12-29</td>\n",
       "      <td>-4314</td>\n",
       "      <td>11.75</td>\n",
       "      <td>-4312.25</td>\n",
       "    </tr>\n",
       "    <tr>\n",
       "      <th>4</th>\n",
       "      <td>Chocolate - Pistoles, Lactee, Milk</td>\n",
       "      <td>75</td>\n",
       "      <td>37</td>\n",
       "      <td>17</td>\n",
       "      <td>2023-04-08</td>\n",
       "      <td>-1238</td>\n",
       "      <td>18.75</td>\n",
       "      <td>-1256.25</td>\n",
       "    </tr>\n",
       "    <tr>\n",
       "      <th>5</th>\n",
       "      <td>Cassis</td>\n",
       "      <td>16</td>\n",
       "      <td>82</td>\n",
       "      <td>100</td>\n",
       "      <td>2023-05-25</td>\n",
       "      <td>-1518</td>\n",
       "      <td>4.00</td>\n",
       "      <td>-1596.00</td>\n",
       "    </tr>\n",
       "    <tr>\n",
       "      <th>6</th>\n",
       "      <td>Sage Derby</td>\n",
       "      <td>11</td>\n",
       "      <td>18</td>\n",
       "      <td>85</td>\n",
       "      <td>2023-04-16</td>\n",
       "      <td>-917</td>\n",
       "      <td>2.75</td>\n",
       "      <td>-932.25</td>\n",
       "    </tr>\n",
       "    <tr>\n",
       "      <th>7</th>\n",
       "      <td>Nantucket - Pomegranate Pear</td>\n",
       "      <td>53</td>\n",
       "      <td>25</td>\n",
       "      <td>58</td>\n",
       "      <td>2022-08-25</td>\n",
       "      <td>-3049</td>\n",
       "      <td>13.25</td>\n",
       "      <td>-3060.75</td>\n",
       "    </tr>\n",
       "    <tr>\n",
       "      <th>8</th>\n",
       "      <td>Carbonated Water - Raspberry</td>\n",
       "      <td>84</td>\n",
       "      <td>11</td>\n",
       "      <td>87</td>\n",
       "      <td>2023-03-05</td>\n",
       "      <td>-7297</td>\n",
       "      <td>21.00</td>\n",
       "      <td>-7287.00</td>\n",
       "    </tr>\n",
       "    <tr>\n",
       "      <th>9</th>\n",
       "      <td>Milkettes - 2%</td>\n",
       "      <td>25</td>\n",
       "      <td>32</td>\n",
       "      <td>35</td>\n",
       "      <td>2023-01-12</td>\n",
       "      <td>-843</td>\n",
       "      <td>6.25</td>\n",
       "      <td>-868.75</td>\n",
       "    </tr>\n",
       "    <tr>\n",
       "      <th>10</th>\n",
       "      <td>Apple - Fuji</td>\n",
       "      <td>32</td>\n",
       "      <td>69</td>\n",
       "      <td>66</td>\n",
       "      <td>2023-04-26</td>\n",
       "      <td>-2043</td>\n",
       "      <td>8.00</td>\n",
       "      <td>-2104.00</td>\n",
       "    </tr>\n",
       "  </tbody>\n",
       "</table>\n",
       "</div>"
      ],
      "text/plain": [
       "                                product_name  buying_price  selling_price  \\\n",
       "sales_id                                                                    \n",
       "1                         Vinegar - Tarragon            65             21   \n",
       "2                             Cloves - Whole            33             75   \n",
       "3              Pail - 15l White, With Handle            47             10   \n",
       "4         Chocolate - Pistoles, Lactee, Milk            75             37   \n",
       "5                                     Cassis            16             82   \n",
       "6                                 Sage Derby            11             18   \n",
       "7               Nantucket - Pomegranate Pear            53             25   \n",
       "8               Carbonated Water - Raspberry            84             11   \n",
       "9                             Milkettes - 2%            25             32   \n",
       "10                              Apple - Fuji            32             69   \n",
       "\n",
       "          sales_quantity sales_created_at  profit  Selling_Price   Profit  \n",
       "sales_id                                                                   \n",
       "1                     23       2022-11-13   -1474          16.25 -1478.75  \n",
       "2                     12       2022-08-31    -321           8.25  -387.75  \n",
       "3                     92       2022-12-29   -4314          11.75 -4312.25  \n",
       "4                     17       2023-04-08   -1238          18.75 -1256.25  \n",
       "5                    100       2023-05-25   -1518           4.00 -1596.00  \n",
       "6                     85       2023-04-16    -917           2.75  -932.25  \n",
       "7                     58       2022-08-25   -3049          13.25 -3060.75  \n",
       "8                     87       2023-03-05   -7297          21.00 -7287.00  \n",
       "9                     35       2023-01-12    -843           6.25  -868.75  \n",
       "10                    66       2023-04-26   -2043           8.00 -2104.00  "
      ]
     },
     "execution_count": 17,
     "metadata": {},
     "output_type": "execute_result"
    }
   ],
   "source": [
    "df.head(10)"
   ]
  },
  {
   "cell_type": "code",
   "execution_count": 18,
   "id": "316e84a1",
   "metadata": {},
   "outputs": [],
   "source": [
    "sales = df['Profit'].sum()"
   ]
  },
  {
   "cell_type": "code",
   "execution_count": 19,
   "id": "d8a1e149",
   "metadata": {},
   "outputs": [
    {
     "data": {
      "text/plain": [
       "-133234.25"
      ]
     },
     "execution_count": 19,
     "metadata": {},
     "output_type": "execute_result"
    }
   ],
   "source": [
    "sales"
   ]
  },
  {
   "cell_type": "markdown",
   "id": "781d73df",
   "metadata": {},
   "source": [
    "### 10. Filter for items with positive profitability and then get top 5 by sales"
   ]
  },
  {
   "cell_type": "code",
   "execution_count": 20,
   "id": "58f6019b",
   "metadata": {},
   "outputs": [],
   "source": [
    "# Display the first five items with the most sales\n",
    "top_products = df.nlargest(5,'sales_quantity')"
   ]
  },
  {
   "cell_type": "code",
   "execution_count": 21,
   "id": "2998cc94",
   "metadata": {},
   "outputs": [
    {
     "data": {
      "text/html": [
       "<div>\n",
       "<style scoped>\n",
       "    .dataframe tbody tr th:only-of-type {\n",
       "        vertical-align: middle;\n",
       "    }\n",
       "\n",
       "    .dataframe tbody tr th {\n",
       "        vertical-align: top;\n",
       "    }\n",
       "\n",
       "    .dataframe thead th {\n",
       "        text-align: right;\n",
       "    }\n",
       "</style>\n",
       "<table border=\"1\" class=\"dataframe\">\n",
       "  <thead>\n",
       "    <tr style=\"text-align: right;\">\n",
       "      <th></th>\n",
       "      <th>product_name</th>\n",
       "      <th>buying_price</th>\n",
       "      <th>selling_price</th>\n",
       "      <th>sales_quantity</th>\n",
       "      <th>sales_created_at</th>\n",
       "      <th>profit</th>\n",
       "      <th>Selling_Price</th>\n",
       "      <th>Profit</th>\n",
       "    </tr>\n",
       "    <tr>\n",
       "      <th>sales_id</th>\n",
       "      <th></th>\n",
       "      <th></th>\n",
       "      <th></th>\n",
       "      <th></th>\n",
       "      <th></th>\n",
       "      <th></th>\n",
       "      <th></th>\n",
       "      <th></th>\n",
       "    </tr>\n",
       "  </thead>\n",
       "  <tbody>\n",
       "    <tr>\n",
       "      <th>5</th>\n",
       "      <td>Cassis</td>\n",
       "      <td>16</td>\n",
       "      <td>82</td>\n",
       "      <td>100</td>\n",
       "      <td>2023-05-25</td>\n",
       "      <td>-1518</td>\n",
       "      <td>4.00</td>\n",
       "      <td>-1596.00</td>\n",
       "    </tr>\n",
       "    <tr>\n",
       "      <th>34</th>\n",
       "      <td>Wiberg Super Cure</td>\n",
       "      <td>20</td>\n",
       "      <td>67</td>\n",
       "      <td>100</td>\n",
       "      <td>2023-06-22</td>\n",
       "      <td>-1933</td>\n",
       "      <td>5.00</td>\n",
       "      <td>-1995.00</td>\n",
       "    </tr>\n",
       "    <tr>\n",
       "      <th>36</th>\n",
       "      <td>Beef - Prime Rib Aaa</td>\n",
       "      <td>69</td>\n",
       "      <td>62</td>\n",
       "      <td>99</td>\n",
       "      <td>2023-06-26</td>\n",
       "      <td>-6769</td>\n",
       "      <td>17.25</td>\n",
       "      <td>-6813.75</td>\n",
       "    </tr>\n",
       "    <tr>\n",
       "      <th>43</th>\n",
       "      <td>Bread Ww Cluster</td>\n",
       "      <td>44</td>\n",
       "      <td>62</td>\n",
       "      <td>98</td>\n",
       "      <td>2023-03-05</td>\n",
       "      <td>-4250</td>\n",
       "      <td>11.00</td>\n",
       "      <td>-4301.00</td>\n",
       "    </tr>\n",
       "    <tr>\n",
       "      <th>3</th>\n",
       "      <td>Pail - 15l White, With Handle</td>\n",
       "      <td>47</td>\n",
       "      <td>10</td>\n",
       "      <td>92</td>\n",
       "      <td>2022-12-29</td>\n",
       "      <td>-4314</td>\n",
       "      <td>11.75</td>\n",
       "      <td>-4312.25</td>\n",
       "    </tr>\n",
       "  </tbody>\n",
       "</table>\n",
       "</div>"
      ],
      "text/plain": [
       "                           product_name  buying_price  selling_price  \\\n",
       "sales_id                                                               \n",
       "5                                Cassis            16             82   \n",
       "34                    Wiberg Super Cure            20             67   \n",
       "36                 Beef - Prime Rib Aaa            69             62   \n",
       "43                     Bread Ww Cluster            44             62   \n",
       "3         Pail - 15l White, With Handle            47             10   \n",
       "\n",
       "          sales_quantity sales_created_at  profit  Selling_Price   Profit  \n",
       "sales_id                                                                   \n",
       "5                    100       2023-05-25   -1518           4.00 -1596.00  \n",
       "34                   100       2023-06-22   -1933           5.00 -1995.00  \n",
       "36                    99       2023-06-26   -6769          17.25 -6813.75  \n",
       "43                    98       2023-03-05   -4250          11.00 -4301.00  \n",
       "3                     92       2022-12-29   -4314          11.75 -4312.25  "
      ]
     },
     "execution_count": 21,
     "metadata": {},
     "output_type": "execute_result"
    }
   ],
   "source": [
    "top_products"
   ]
  },
  {
   "cell_type": "markdown",
   "id": "9e6dbc81",
   "metadata": {},
   "source": [
    "### 11. Group by month and calculate total sales for each month"
   ]
  },
  {
   "cell_type": "code",
   "execution_count": 28,
   "id": "7fa9996c",
   "metadata": {},
   "outputs": [],
   "source": [
    "best_performing_month = df.groupby(df['sales_created_at'].dt.to_period('M')).sum()"
   ]
  },
  {
   "cell_type": "markdown",
   "id": "2545aeeb",
   "metadata": {},
   "source": [
    "### Find the month with the highest total sales"
   ]
  },
  {
   "cell_type": "code",
   "execution_count": 29,
   "id": "d2a8e9c1",
   "metadata": {},
   "outputs": [
    {
     "data": {
      "text/html": [
       "<div>\n",
       "<style scoped>\n",
       "    .dataframe tbody tr th:only-of-type {\n",
       "        vertical-align: middle;\n",
       "    }\n",
       "\n",
       "    .dataframe tbody tr th {\n",
       "        vertical-align: top;\n",
       "    }\n",
       "\n",
       "    .dataframe thead th {\n",
       "        text-align: right;\n",
       "    }\n",
       "</style>\n",
       "<table border=\"1\" class=\"dataframe\">\n",
       "  <thead>\n",
       "    <tr style=\"text-align: right;\">\n",
       "      <th></th>\n",
       "      <th>buying_price</th>\n",
       "      <th>selling_price</th>\n",
       "      <th>sales_quantity</th>\n",
       "      <th>profit</th>\n",
       "      <th>Selling_Price</th>\n",
       "      <th>Profit</th>\n",
       "    </tr>\n",
       "    <tr>\n",
       "      <th>sales_created_at</th>\n",
       "      <th></th>\n",
       "      <th></th>\n",
       "      <th></th>\n",
       "      <th></th>\n",
       "      <th></th>\n",
       "      <th></th>\n",
       "    </tr>\n",
       "  </thead>\n",
       "  <tbody>\n",
       "    <tr>\n",
       "      <th>2022-08</th>\n",
       "      <td>200</td>\n",
       "      <td>177</td>\n",
       "      <td>198</td>\n",
       "      <td>-9731</td>\n",
       "      <td>50.00</td>\n",
       "      <td>-9858.00</td>\n",
       "    </tr>\n",
       "    <tr>\n",
       "      <th>2022-09</th>\n",
       "      <td>188</td>\n",
       "      <td>79</td>\n",
       "      <td>135</td>\n",
       "      <td>-12857</td>\n",
       "      <td>47.00</td>\n",
       "      <td>-12889.00</td>\n",
       "    </tr>\n",
       "    <tr>\n",
       "      <th>2022-10</th>\n",
       "      <td>49</td>\n",
       "      <td>97</td>\n",
       "      <td>24</td>\n",
       "      <td>-1079</td>\n",
       "      <td>12.25</td>\n",
       "      <td>-1163.75</td>\n",
       "    </tr>\n",
       "    <tr>\n",
       "      <th>2022-11</th>\n",
       "      <td>117</td>\n",
       "      <td>164</td>\n",
       "      <td>168</td>\n",
       "      <td>-3521</td>\n",
       "      <td>29.25</td>\n",
       "      <td>-3655.75</td>\n",
       "    </tr>\n",
       "    <tr>\n",
       "      <th>2022-12</th>\n",
       "      <td>151</td>\n",
       "      <td>241</td>\n",
       "      <td>323</td>\n",
       "      <td>-12035</td>\n",
       "      <td>37.75</td>\n",
       "      <td>-12238.25</td>\n",
       "    </tr>\n",
       "    <tr>\n",
       "      <th>2023-01</th>\n",
       "      <td>133</td>\n",
       "      <td>247</td>\n",
       "      <td>164</td>\n",
       "      <td>-4330</td>\n",
       "      <td>33.25</td>\n",
       "      <td>-4543.75</td>\n",
       "    </tr>\n",
       "    <tr>\n",
       "      <th>2023-02</th>\n",
       "      <td>101</td>\n",
       "      <td>123</td>\n",
       "      <td>102</td>\n",
       "      <td>-6497</td>\n",
       "      <td>25.25</td>\n",
       "      <td>-6594.75</td>\n",
       "    </tr>\n",
       "    <tr>\n",
       "      <th>2023-03</th>\n",
       "      <td>299</td>\n",
       "      <td>349</td>\n",
       "      <td>386</td>\n",
       "      <td>-19665</td>\n",
       "      <td>74.75</td>\n",
       "      <td>-19939.25</td>\n",
       "    </tr>\n",
       "    <tr>\n",
       "      <th>2023-04</th>\n",
       "      <td>262</td>\n",
       "      <td>271</td>\n",
       "      <td>300</td>\n",
       "      <td>-10607</td>\n",
       "      <td>65.50</td>\n",
       "      <td>-10812.50</td>\n",
       "    </tr>\n",
       "    <tr>\n",
       "      <th>2023-05</th>\n",
       "      <td>113</td>\n",
       "      <td>197</td>\n",
       "      <td>238</td>\n",
       "      <td>-8261</td>\n",
       "      <td>28.25</td>\n",
       "      <td>-8429.75</td>\n",
       "    </tr>\n",
       "    <tr>\n",
       "      <th>2023-06</th>\n",
       "      <td>260</td>\n",
       "      <td>215</td>\n",
       "      <td>419</td>\n",
       "      <td>-20870</td>\n",
       "      <td>65.00</td>\n",
       "      <td>-21020.00</td>\n",
       "    </tr>\n",
       "    <tr>\n",
       "      <th>2023-07</th>\n",
       "      <td>362</td>\n",
       "      <td>501</td>\n",
       "      <td>475</td>\n",
       "      <td>-21679</td>\n",
       "      <td>90.50</td>\n",
       "      <td>-22089.50</td>\n",
       "    </tr>\n",
       "  </tbody>\n",
       "</table>\n",
       "</div>"
      ],
      "text/plain": [
       "                  buying_price  selling_price  sales_quantity  profit  \\\n",
       "sales_created_at                                                        \n",
       "2022-08                    200            177             198   -9731   \n",
       "2022-09                    188             79             135  -12857   \n",
       "2022-10                     49             97              24   -1079   \n",
       "2022-11                    117            164             168   -3521   \n",
       "2022-12                    151            241             323  -12035   \n",
       "2023-01                    133            247             164   -4330   \n",
       "2023-02                    101            123             102   -6497   \n",
       "2023-03                    299            349             386  -19665   \n",
       "2023-04                    262            271             300  -10607   \n",
       "2023-05                    113            197             238   -8261   \n",
       "2023-06                    260            215             419  -20870   \n",
       "2023-07                    362            501             475  -21679   \n",
       "\n",
       "                  Selling_Price    Profit  \n",
       "sales_created_at                           \n",
       "2022-08                   50.00  -9858.00  \n",
       "2022-09                   47.00 -12889.00  \n",
       "2022-10                   12.25  -1163.75  \n",
       "2022-11                   29.25  -3655.75  \n",
       "2022-12                   37.75 -12238.25  \n",
       "2023-01                   33.25  -4543.75  \n",
       "2023-02                   25.25  -6594.75  \n",
       "2023-03                   74.75 -19939.25  \n",
       "2023-04                   65.50 -10812.50  \n",
       "2023-05                   28.25  -8429.75  \n",
       "2023-06                   65.00 -21020.00  \n",
       "2023-07                   90.50 -22089.50  "
      ]
     },
     "execution_count": 29,
     "metadata": {},
     "output_type": "execute_result"
    }
   ],
   "source": [
    "best_performing_month"
   ]
  },
  {
   "cell_type": "code",
   "execution_count": 30,
   "id": "864abec0",
   "metadata": {},
   "outputs": [
    {
     "data": {
      "text/plain": [
       "Period('2023-07', 'M')"
      ]
     },
     "execution_count": 30,
     "metadata": {},
     "output_type": "execute_result"
    }
   ],
   "source": [
    "best_performing_month['sales_quantity'].idxmax()"
   ]
  },
  {
   "cell_type": "markdown",
   "id": "3e337fff",
   "metadata": {},
   "source": [
    "### 12. Create the plot using Pandas' plotting function"
   ]
  },
  {
   "cell_type": "code",
   "execution_count": null,
   "id": "6b54d189",
   "metadata": {},
   "outputs": [],
   "source": [
    "df.plot.bar('product_name','sales_quantity',legend=False,rot=90,figsize=(15,9))\n",
    "plt.xlabel('Product Names')\n",
    "plt.ylabel('Total Sales Quantity')\n",
    "plt.title('Total Sales per Product')"
   ]
  },
  {
   "cell_type": "code",
   "execution_count": null,
   "id": "2e689dfd",
   "metadata": {},
   "outputs": [],
   "source": [
    "df['buying_price'].corr(df['Profit']) #pearson correlation"
   ]
  },
  {
   "cell_type": "code",
   "execution_count": null,
   "id": "fa526599",
   "metadata": {},
   "outputs": [],
   "source": [
    "# Calculate Spearman's rank correlation coefficient\n",
    "spearman_corr = df['buying_price'].corr(df['Profit'], method='spearman')"
   ]
  },
  {
   "cell_type": "code",
   "execution_count": null,
   "id": "0788b229",
   "metadata": {},
   "outputs": [],
   "source": [
    "spearman_corr"
   ]
  },
  {
   "cell_type": "code",
   "execution_count": null,
   "id": "f8fb79ce",
   "metadata": {},
   "outputs": [],
   "source": [
    "# Calculate the average profit for each product name --- correlation between product name and profit\n",
    "df.groupby('product_name')['Profit'].mean()"
   ]
  },
  {
   "cell_type": "code",
   "execution_count": null,
   "id": "015fa516",
   "metadata": {},
   "outputs": [],
   "source": [
    "# Group by the month extracted from the 'Date' column and sum the 'Sales' within each group\n",
    "grouped_df = df.groupby(df['sales_created_at'].dt.to_period('M'))['sales_quantity'].sum()\n",
    "\n",
    "# Create a bar plot\n",
    "grouped_df.plot(kind='bar', rot=90, figsize=(15,9)) \n",
    "plt.xlabel('Monthly Dates')\n",
    "plt.ylabel('Total Sales')\n",
    "plt.title('Total Sales per Month')"
   ]
  },
  {
   "cell_type": "code",
   "execution_count": null,
   "id": "a73edb71",
   "metadata": {},
   "outputs": [],
   "source": [
    "columns_to_drop = ['selling_price', 'profit']\n",
    "df.drop(columns=columns_to_drop, inplace=True)"
   ]
  },
  {
   "cell_type": "code",
   "execution_count": null,
   "id": "39f2a614",
   "metadata": {},
   "outputs": [],
   "source": [
    "df.to_csv('duka_sales_cleaned.csv',index = False)"
   ]
  },
  {
   "cell_type": "code",
   "execution_count": null,
   "id": "57591a19",
   "metadata": {},
   "outputs": [],
   "source": [
    "# Read the CSV file into a DataFrame\n",
    "df = pd.read_csv('duka_sales_cleaned.csv')\n",
    "\n",
    "# Display the first few rows of the DataFrame\n",
    "df.head(10)"
   ]
  },
  {
   "cell_type": "code",
   "execution_count": null,
   "id": "a9efd101",
   "metadata": {},
   "outputs": [],
   "source": [
    "from pathlib import Path\n",
    "filepath = Path('datascience/csv files/duka_sales_cleaned.csv')  \n",
    "filepath.parent.mkdir(parents=True, exist_ok=True)  \n",
    "df.to_csv(filepath)  "
   ]
  },
  {
   "cell_type": "code",
   "execution_count": null,
   "id": "30594d63",
   "metadata": {},
   "outputs": [],
   "source": [
    "FileLink('duka_sales_cleaned.csv',result_html_prefix = \"Click here to download: \")"
   ]
  }
 ],
 "metadata": {
  "kernelspec": {
   "display_name": "Python 3 (ipykernel)",
   "language": "python",
   "name": "python3"
  },
  "language_info": {
   "codemirror_mode": {
    "name": "ipython",
    "version": 3
   },
   "file_extension": ".py",
   "mimetype": "text/x-python",
   "name": "python",
   "nbconvert_exporter": "python",
   "pygments_lexer": "ipython3",
   "version": "3.11.3"
  }
 },
 "nbformat": 4,
 "nbformat_minor": 5
}
