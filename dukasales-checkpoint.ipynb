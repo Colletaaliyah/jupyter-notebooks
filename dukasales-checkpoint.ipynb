{
 "cells": [
  {
   "cell_type": "markdown",
   "id": "1ca86e97",
   "metadata": {},
   "source": [
    "### 1.Importing modules that interact with the database."
   ]
  },
  {
   "cell_type": "code",
   "execution_count": 1,
   "id": "8c156a55",
   "metadata": {},
   "outputs": [],
   "source": [
    "import psycopg2\n",
    "import pandas as pd"
   ]
  },
  {
   "cell_type": "code",
   "execution_count": 2,
   "id": "76571ffd",
   "metadata": {},
   "outputs": [],
   "source": [
    "import warnings\n",
    "warnings.filterwarnings(\"ignore\")"
   ]
  },
  {
   "cell_type": "code",
   "execution_count": 3,
   "id": "4c7a425b",
   "metadata": {},
   "outputs": [],
   "source": [
    "conn = psycopg2.connect(\"dbname=myduka user=postgres password=Candidcoco@20\")"
   ]
  },
  {
   "cell_type": "code",
   "execution_count": 4,
   "id": "71c8734f",
   "metadata": {},
   "outputs": [],
   "source": [
    "df = pd.read_sql_query(\"SELECT sales.id as sales_id, product_name, buying_price, selling_price, sales.quantity as sales_quantity, created_at as sales_created_at FROM products,sales WHERE products.id = sales.pid\", conn)"
   ]
  },
  {
   "cell_type": "markdown",
   "id": "0c1e4a7a",
   "metadata": {},
   "source": [
    "### 2.Set column index"
   ]
  },
  {
   "cell_type": "code",
   "execution_count": 5,
   "id": "11d7456b",
   "metadata": {},
   "outputs": [],
   "source": [
    "df.set_index('sales_id', inplace=True,verify_integrity=False)"
   ]
  },
  {
   "cell_type": "markdown",
   "id": "d35544dc",
   "metadata": {},
   "source": [
    "### 3.Checking data types."
   ]
  },
  {
   "cell_type": "code",
   "execution_count": 6,
   "id": "6185a7ab",
   "metadata": {},
   "outputs": [
    {
     "data": {
      "text/plain": [
       "product_name                object\n",
       "buying_price                 int64\n",
       "selling_price                int64\n",
       "sales_quantity               int64\n",
       "sales_created_at    datetime64[ns]\n",
       "dtype: object"
      ]
     },
     "execution_count": 6,
     "metadata": {},
     "output_type": "execute_result"
    }
   ],
   "source": [
    "df.dtypes"
   ]
  },
  {
   "cell_type": "markdown",
   "id": "257f2dbb",
   "metadata": {},
   "source": [
    "### 4.Cleaning up columns to follow programming naming."
   ]
  },
  {
   "cell_type": "code",
   "execution_count": 7,
   "id": "2b197eea",
   "metadata": {},
   "outputs": [
    {
     "data": {
      "text/plain": [
       "['product_name',\n",
       " 'buying_price',\n",
       " 'selling_price',\n",
       " 'sales_quantity',\n",
       " 'sales_created_at']"
      ]
     },
     "execution_count": 7,
     "metadata": {},
     "output_type": "execute_result"
    }
   ],
   "source": [
    "df.columns.to_list()"
   ]
  },
  {
   "cell_type": "markdown",
   "id": "bf30ccce",
   "metadata": {},
   "source": [
    "### 5.Removing duplicates"
   ]
  },
  {
   "cell_type": "code",
   "execution_count": 8,
   "id": "980569cf",
   "metadata": {},
   "outputs": [
    {
     "data": {
      "text/plain": [
       "(50, 5)"
      ]
     },
     "execution_count": 8,
     "metadata": {},
     "output_type": "execute_result"
    }
   ],
   "source": [
    "df.shape"
   ]
  },
  {
   "cell_type": "code",
   "execution_count": 9,
   "id": "8f3aeed9",
   "metadata": {},
   "outputs": [
    {
     "data": {
      "text/plain": [
       "(100, 5)"
      ]
     },
     "execution_count": 9,
     "metadata": {},
     "output_type": "execute_result"
    }
   ],
   "source": [
    "new_df = df.append(df)\n",
    "new_df.shape"
   ]
  },
  {
   "cell_type": "code",
   "execution_count": 10,
   "id": "04f06583",
   "metadata": {},
   "outputs": [
    {
     "data": {
      "text/plain": [
       "(50, 5)"
      ]
     },
     "execution_count": 10,
     "metadata": {},
     "output_type": "execute_result"
    }
   ],
   "source": [
    "new_df = df.drop_duplicates()\n",
    "new_df.shape"
   ]
  },
  {
   "cell_type": "markdown",
   "id": "e63ce247",
   "metadata": {},
   "source": [
    "### 6.Cleaning up columns."
   ]
  },
  {
   "cell_type": "code",
   "execution_count": 11,
   "id": "17503b6e",
   "metadata": {},
   "outputs": [
    {
     "data": {
      "text/plain": [
       "Index(['product_name', 'buying_price', 'selling_price', 'sales_quantity',\n",
       "       'sales_created_at'],\n",
       "      dtype='object')"
      ]
     },
     "execution_count": 11,
     "metadata": {},
     "output_type": "execute_result"
    }
   ],
   "source": [
    "df.columns.map(str.lower,na_action='ignore')"
   ]
  },
  {
   "cell_type": "markdown",
   "id": "34102ef0",
   "metadata": {},
   "source": [
    "### 7.Dealing with null values."
   ]
  },
  {
   "cell_type": "code",
   "execution_count": null,
   "id": "9fdd3123",
   "metadata": {},
   "outputs": [],
   "source": []
  },
  {
   "cell_type": "code",
   "execution_count": null,
   "id": "1eb5329a",
   "metadata": {},
   "outputs": [],
   "source": []
  },
  {
   "cell_type": "markdown",
   "id": "efa08f4d",
   "metadata": {},
   "source": [
    "### 8.Summary statistics."
   ]
  },
  {
   "cell_type": "code",
   "execution_count": 12,
   "id": "1cf233af",
   "metadata": {},
   "outputs": [
    {
     "data": {
      "text/html": [
       "<div>\n",
       "<style scoped>\n",
       "    .dataframe tbody tr th:only-of-type {\n",
       "        vertical-align: middle;\n",
       "    }\n",
       "\n",
       "    .dataframe tbody tr th {\n",
       "        vertical-align: top;\n",
       "    }\n",
       "\n",
       "    .dataframe thead th {\n",
       "        text-align: right;\n",
       "    }\n",
       "</style>\n",
       "<table border=\"1\" class=\"dataframe\">\n",
       "  <thead>\n",
       "    <tr style=\"text-align: right;\">\n",
       "      <th></th>\n",
       "      <th>buying_price</th>\n",
       "      <th>selling_price</th>\n",
       "      <th>sales_quantity</th>\n",
       "    </tr>\n",
       "  </thead>\n",
       "  <tbody>\n",
       "    <tr>\n",
       "      <th>buying_price</th>\n",
       "      <td>1.000000</td>\n",
       "      <td>-0.063809</td>\n",
       "      <td>0.072640</td>\n",
       "    </tr>\n",
       "    <tr>\n",
       "      <th>selling_price</th>\n",
       "      <td>-0.063809</td>\n",
       "      <td>1.000000</td>\n",
       "      <td>0.124686</td>\n",
       "    </tr>\n",
       "    <tr>\n",
       "      <th>sales_quantity</th>\n",
       "      <td>0.072640</td>\n",
       "      <td>0.124686</td>\n",
       "      <td>1.000000</td>\n",
       "    </tr>\n",
       "  </tbody>\n",
       "</table>\n",
       "</div>"
      ],
      "text/plain": [
       "                buying_price  selling_price  sales_quantity\n",
       "buying_price        1.000000      -0.063809        0.072640\n",
       "selling_price      -0.063809       1.000000        0.124686\n",
       "sales_quantity      0.072640       0.124686        1.000000"
      ]
     },
     "execution_count": 12,
     "metadata": {},
     "output_type": "execute_result"
    }
   ],
   "source": [
    "df.corr()"
   ]
  },
  {
   "cell_type": "markdown",
   "id": "219684f0",
   "metadata": {},
   "source": [
    "### 9. Creating new columns."
   ]
  },
  {
   "cell_type": "code",
   "execution_count": 13,
   "id": "0da7b84d",
   "metadata": {},
   "outputs": [],
   "source": [
    "df['profit'] = df['selling_price'] - df['buying_price'] * df['sales_quantity']"
   ]
  },
  {
   "cell_type": "code",
   "execution_count": 14,
   "id": "8162907b",
   "metadata": {},
   "outputs": [
    {
     "data": {
      "text/html": [
       "<div>\n",
       "<style scoped>\n",
       "    .dataframe tbody tr th:only-of-type {\n",
       "        vertical-align: middle;\n",
       "    }\n",
       "\n",
       "    .dataframe tbody tr th {\n",
       "        vertical-align: top;\n",
       "    }\n",
       "\n",
       "    .dataframe thead th {\n",
       "        text-align: right;\n",
       "    }\n",
       "</style>\n",
       "<table border=\"1\" class=\"dataframe\">\n",
       "  <thead>\n",
       "    <tr style=\"text-align: right;\">\n",
       "      <th></th>\n",
       "      <th>product_name</th>\n",
       "      <th>buying_price</th>\n",
       "      <th>selling_price</th>\n",
       "      <th>sales_quantity</th>\n",
       "      <th>sales_created_at</th>\n",
       "      <th>profit</th>\n",
       "    </tr>\n",
       "    <tr>\n",
       "      <th>sales_id</th>\n",
       "      <th></th>\n",
       "      <th></th>\n",
       "      <th></th>\n",
       "      <th></th>\n",
       "      <th></th>\n",
       "      <th></th>\n",
       "    </tr>\n",
       "  </thead>\n",
       "  <tbody>\n",
       "    <tr>\n",
       "      <th>1</th>\n",
       "      <td>Vinegar - Tarragon</td>\n",
       "      <td>65</td>\n",
       "      <td>21</td>\n",
       "      <td>23</td>\n",
       "      <td>2022-11-13</td>\n",
       "      <td>-1474</td>\n",
       "    </tr>\n",
       "    <tr>\n",
       "      <th>2</th>\n",
       "      <td>Cloves - Whole</td>\n",
       "      <td>33</td>\n",
       "      <td>75</td>\n",
       "      <td>12</td>\n",
       "      <td>2022-08-31</td>\n",
       "      <td>-321</td>\n",
       "    </tr>\n",
       "    <tr>\n",
       "      <th>3</th>\n",
       "      <td>Pail - 15l White, With Handle</td>\n",
       "      <td>47</td>\n",
       "      <td>10</td>\n",
       "      <td>92</td>\n",
       "      <td>2022-12-29</td>\n",
       "      <td>-4314</td>\n",
       "    </tr>\n",
       "    <tr>\n",
       "      <th>4</th>\n",
       "      <td>Chocolate - Pistoles, Lactee, Milk</td>\n",
       "      <td>75</td>\n",
       "      <td>37</td>\n",
       "      <td>17</td>\n",
       "      <td>2023-04-08</td>\n",
       "      <td>-1238</td>\n",
       "    </tr>\n",
       "    <tr>\n",
       "      <th>5</th>\n",
       "      <td>Cassis</td>\n",
       "      <td>16</td>\n",
       "      <td>82</td>\n",
       "      <td>100</td>\n",
       "      <td>2023-05-25</td>\n",
       "      <td>-1518</td>\n",
       "    </tr>\n",
       "    <tr>\n",
       "      <th>6</th>\n",
       "      <td>Sage Derby</td>\n",
       "      <td>11</td>\n",
       "      <td>18</td>\n",
       "      <td>85</td>\n",
       "      <td>2023-04-16</td>\n",
       "      <td>-917</td>\n",
       "    </tr>\n",
       "    <tr>\n",
       "      <th>7</th>\n",
       "      <td>Nantucket - Pomegranate Pear</td>\n",
       "      <td>53</td>\n",
       "      <td>25</td>\n",
       "      <td>58</td>\n",
       "      <td>2022-08-25</td>\n",
       "      <td>-3049</td>\n",
       "    </tr>\n",
       "    <tr>\n",
       "      <th>8</th>\n",
       "      <td>Carbonated Water - Raspberry</td>\n",
       "      <td>84</td>\n",
       "      <td>11</td>\n",
       "      <td>87</td>\n",
       "      <td>2023-03-05</td>\n",
       "      <td>-7297</td>\n",
       "    </tr>\n",
       "    <tr>\n",
       "      <th>9</th>\n",
       "      <td>Milkettes - 2%</td>\n",
       "      <td>25</td>\n",
       "      <td>32</td>\n",
       "      <td>35</td>\n",
       "      <td>2023-01-12</td>\n",
       "      <td>-843</td>\n",
       "    </tr>\n",
       "    <tr>\n",
       "      <th>10</th>\n",
       "      <td>Apple - Fuji</td>\n",
       "      <td>32</td>\n",
       "      <td>69</td>\n",
       "      <td>66</td>\n",
       "      <td>2023-04-26</td>\n",
       "      <td>-2043</td>\n",
       "    </tr>\n",
       "    <tr>\n",
       "      <th>11</th>\n",
       "      <td>Soup - Campbells, Spinach Crm</td>\n",
       "      <td>51</td>\n",
       "      <td>45</td>\n",
       "      <td>54</td>\n",
       "      <td>2023-04-24</td>\n",
       "      <td>-2709</td>\n",
       "    </tr>\n",
       "    <tr>\n",
       "      <th>12</th>\n",
       "      <td>Water - Spring Water 500ml</td>\n",
       "      <td>54</td>\n",
       "      <td>23</td>\n",
       "      <td>84</td>\n",
       "      <td>2023-05-08</td>\n",
       "      <td>-4513</td>\n",
       "    </tr>\n",
       "    <tr>\n",
       "      <th>13</th>\n",
       "      <td>Crab - Dungeness, Whole</td>\n",
       "      <td>90</td>\n",
       "      <td>31</td>\n",
       "      <td>51</td>\n",
       "      <td>2022-08-30</td>\n",
       "      <td>-4559</td>\n",
       "    </tr>\n",
       "    <tr>\n",
       "      <th>14</th>\n",
       "      <td>Dasheen</td>\n",
       "      <td>14</td>\n",
       "      <td>32</td>\n",
       "      <td>3</td>\n",
       "      <td>2023-02-17</td>\n",
       "      <td>-10</td>\n",
       "    </tr>\n",
       "    <tr>\n",
       "      <th>15</th>\n",
       "      <td>Vinegar - Champagne</td>\n",
       "      <td>71</td>\n",
       "      <td>64</td>\n",
       "      <td>41</td>\n",
       "      <td>2023-01-31</td>\n",
       "      <td>-2847</td>\n",
       "    </tr>\n",
       "  </tbody>\n",
       "</table>\n",
       "</div>"
      ],
      "text/plain": [
       "                                product_name  buying_price  selling_price  \\\n",
       "sales_id                                                                    \n",
       "1                         Vinegar - Tarragon            65             21   \n",
       "2                             Cloves - Whole            33             75   \n",
       "3              Pail - 15l White, With Handle            47             10   \n",
       "4         Chocolate - Pistoles, Lactee, Milk            75             37   \n",
       "5                                     Cassis            16             82   \n",
       "6                                 Sage Derby            11             18   \n",
       "7               Nantucket - Pomegranate Pear            53             25   \n",
       "8               Carbonated Water - Raspberry            84             11   \n",
       "9                             Milkettes - 2%            25             32   \n",
       "10                              Apple - Fuji            32             69   \n",
       "11             Soup - Campbells, Spinach Crm            51             45   \n",
       "12                Water - Spring Water 500ml            54             23   \n",
       "13                   Crab - Dungeness, Whole            90             31   \n",
       "14                                   Dasheen            14             32   \n",
       "15                       Vinegar - Champagne            71             64   \n",
       "\n",
       "          sales_quantity sales_created_at  profit  \n",
       "sales_id                                           \n",
       "1                     23       2022-11-13   -1474  \n",
       "2                     12       2022-08-31    -321  \n",
       "3                     92       2022-12-29   -4314  \n",
       "4                     17       2023-04-08   -1238  \n",
       "5                    100       2023-05-25   -1518  \n",
       "6                     85       2023-04-16    -917  \n",
       "7                     58       2022-08-25   -3049  \n",
       "8                     87       2023-03-05   -7297  \n",
       "9                     35       2023-01-12    -843  \n",
       "10                    66       2023-04-26   -2043  \n",
       "11                    54       2023-04-24   -2709  \n",
       "12                    84       2023-05-08   -4513  \n",
       "13                    51       2022-08-30   -4559  \n",
       "14                     3       2023-02-17     -10  \n",
       "15                    41       2023-01-31   -2847  "
      ]
     },
     "execution_count": 14,
     "metadata": {},
     "output_type": "execute_result"
    }
   ],
   "source": [
    "df.head(15)"
   ]
  },
  {
   "cell_type": "code",
   "execution_count": null,
   "id": "bf676239",
   "metadata": {},
   "outputs": [],
   "source": []
  }
 ],
 "metadata": {
  "kernelspec": {
   "display_name": "Python 3 (ipykernel)",
   "language": "python",
   "name": "python3"
  },
  "language_info": {
   "codemirror_mode": {
    "name": "ipython",
    "version": 3
   },
   "file_extension": ".py",
   "mimetype": "text/x-python",
   "name": "python",
   "nbconvert_exporter": "python",
   "pygments_lexer": "ipython3",
   "version": "3.11.3"
  }
 },
 "nbformat": 4,
 "nbformat_minor": 5
}
